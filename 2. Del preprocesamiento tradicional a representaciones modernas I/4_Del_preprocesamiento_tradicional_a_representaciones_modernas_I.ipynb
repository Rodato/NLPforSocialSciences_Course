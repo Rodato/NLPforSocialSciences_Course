{
  "nbformat": 4,
  "nbformat_minor": 0,
  "metadata": {
    "colab": {
      "provenance": []
    },
    "kernelspec": {
      "name": "python3",
      "display_name": "Python 3"
    },
    "language_info": {
      "name": "python"
    }
  },
  "cells": [
    {
      "cell_type": "markdown",
      "source": [
        "# Procesamiento de Lenguaje Natural para Ciencias Sociales\n",
        "## Sesión 4a: Del preprocesamiento tradicional a representaciones modernas I\n",
        "\n",
        "**Fecha:** 14 de mayo de 2025  \n",
        "**Instructor:** Daniel Otero\n",
        "\n",
        "---\n",
        "\n",
        "## 1. Introducción\n",
        "\n",
        "El preprocesamiento de texto es un paso fundamental en cualquier proyecto de NLP. Consiste en transformar el texto crudo en datos estructurados que puedan ser procesados por algoritmos de aprendizaje automático. En esta sesión, exploraremos diversas técnicas de preprocesamiento y avanzaremos hacia representaciones modernas como los word embeddings.\n",
        "\n",
        "### 1.1 Objetivos de la sesión:\n",
        "- Aprender las técnicas fundamentales de preprocesamiento de texto\n",
        "- Entender la importancia de cada paso de preprocesamiento\n",
        "- Explorar diferentes representaciones de texto (bolsa de palabras, TF-IDF)\n",
        "- Introducir los word embeddings (Word2Vec, GloVe)\n",
        "- Aplicar estas técnicas a datos reales: discursos presidenciales ante la ONU\n",
        "\n",
        "### 1.2 ¿Por qué es importante el preprocesamiento?\n",
        "- Reduce ruido en los datos textuales\n",
        "- Estandariza el formato del texto\n",
        "- Facilita la extracción de características relevantes\n",
        "- Mejora el rendimiento de los algoritmos de NLP\n",
        "- Reduce dimensionalidad y complejidad computacional\n",
        "\n",
        "---\n",
        "\n",
        "## 2. Configuración inicial\n",
        "\n",
        "Primero, instalemos y carguemos las bibliotecas necesarias para esta sesión:"
      ],
      "metadata": {
        "id": "-I5GeXlhULfs"
      }
    },
    {
      "cell_type": "code",
      "execution_count": null,
      "metadata": {
        "id": "M6mjz5gMS4mM",
        "colab": {
          "base_uri": "https://localhost:8080/"
        },
        "outputId": "b7f5317d-6a54-41c7-e38e-eb93856aeb60"
      },
      "outputs": [
        {
          "output_type": "stream",
          "name": "stdout",
          "text": [
            "Requirement already satisfied: nltk in /usr/local/lib/python3.11/dist-packages (3.9.1)\n",
            "Requirement already satisfied: spacy in /usr/local/lib/python3.11/dist-packages (3.8.5)\n",
            "Requirement already satisfied: wordcloud in /usr/local/lib/python3.11/dist-packages (1.9.4)\n",
            "Requirement already satisfied: matplotlib in /usr/local/lib/python3.11/dist-packages (3.10.0)\n",
            "Requirement already satisfied: seaborn in /usr/local/lib/python3.11/dist-packages (0.13.2)\n",
            "Requirement already satisfied: pandas in /usr/local/lib/python3.11/dist-packages (2.2.2)\n",
            "Requirement already satisfied: transformers in /usr/local/lib/python3.11/dist-packages (4.51.3)\n",
            "Requirement already satisfied: scikit-learn in /usr/local/lib/python3.11/dist-packages (1.6.1)\n",
            "Requirement already satisfied: click in /usr/local/lib/python3.11/dist-packages (from nltk) (8.1.8)\n",
            "Requirement already satisfied: joblib in /usr/local/lib/python3.11/dist-packages (from nltk) (1.5.0)\n",
            "Requirement already satisfied: regex>=2021.8.3 in /usr/local/lib/python3.11/dist-packages (from nltk) (2024.11.6)\n",
            "Requirement already satisfied: tqdm in /usr/local/lib/python3.11/dist-packages (from nltk) (4.67.1)\n",
            "Requirement already satisfied: spacy-legacy<3.1.0,>=3.0.11 in /usr/local/lib/python3.11/dist-packages (from spacy) (3.0.12)\n",
            "Requirement already satisfied: spacy-loggers<2.0.0,>=1.0.0 in /usr/local/lib/python3.11/dist-packages (from spacy) (1.0.5)\n",
            "Requirement already satisfied: murmurhash<1.1.0,>=0.28.0 in /usr/local/lib/python3.11/dist-packages (from spacy) (1.0.12)\n",
            "Requirement already satisfied: cymem<2.1.0,>=2.0.2 in /usr/local/lib/python3.11/dist-packages (from spacy) (2.0.11)\n",
            "Requirement already satisfied: preshed<3.1.0,>=3.0.2 in /usr/local/lib/python3.11/dist-packages (from spacy) (3.0.9)\n",
            "Requirement already satisfied: thinc<8.4.0,>=8.3.4 in /usr/local/lib/python3.11/dist-packages (from spacy) (8.3.4)\n",
            "Requirement already satisfied: wasabi<1.2.0,>=0.9.1 in /usr/local/lib/python3.11/dist-packages (from spacy) (1.1.3)\n",
            "Requirement already satisfied: srsly<3.0.0,>=2.4.3 in /usr/local/lib/python3.11/dist-packages (from spacy) (2.5.1)\n",
            "Requirement already satisfied: catalogue<2.1.0,>=2.0.6 in /usr/local/lib/python3.11/dist-packages (from spacy) (2.0.10)\n",
            "Requirement already satisfied: weasel<0.5.0,>=0.1.0 in /usr/local/lib/python3.11/dist-packages (from spacy) (0.4.1)\n",
            "Requirement already satisfied: typer<1.0.0,>=0.3.0 in /usr/local/lib/python3.11/dist-packages (from spacy) (0.15.3)\n",
            "Requirement already satisfied: numpy>=1.19.0 in /usr/local/lib/python3.11/dist-packages (from spacy) (1.24.3)\n",
            "Requirement already satisfied: requests<3.0.0,>=2.13.0 in /usr/local/lib/python3.11/dist-packages (from spacy) (2.32.3)\n",
            "Requirement already satisfied: pydantic!=1.8,!=1.8.1,<3.0.0,>=1.7.4 in /usr/local/lib/python3.11/dist-packages (from spacy) (2.11.4)\n",
            "Requirement already satisfied: jinja2 in /usr/local/lib/python3.11/dist-packages (from spacy) (3.1.6)\n",
            "Requirement already satisfied: setuptools in /usr/local/lib/python3.11/dist-packages (from spacy) (75.2.0)\n",
            "Requirement already satisfied: packaging>=20.0 in /usr/local/lib/python3.11/dist-packages (from spacy) (24.2)\n",
            "Requirement already satisfied: langcodes<4.0.0,>=3.2.0 in /usr/local/lib/python3.11/dist-packages (from spacy) (3.5.0)\n",
            "Requirement already satisfied: pillow in /usr/local/lib/python3.11/dist-packages (from wordcloud) (11.2.1)\n",
            "Requirement already satisfied: contourpy>=1.0.1 in /usr/local/lib/python3.11/dist-packages (from matplotlib) (1.3.2)\n",
            "Requirement already satisfied: cycler>=0.10 in /usr/local/lib/python3.11/dist-packages (from matplotlib) (0.12.1)\n",
            "Requirement already satisfied: fonttools>=4.22.0 in /usr/local/lib/python3.11/dist-packages (from matplotlib) (4.57.0)\n",
            "Requirement already satisfied: kiwisolver>=1.3.1 in /usr/local/lib/python3.11/dist-packages (from matplotlib) (1.4.8)\n",
            "Requirement already satisfied: pyparsing>=2.3.1 in /usr/local/lib/python3.11/dist-packages (from matplotlib) (3.2.3)\n",
            "Requirement already satisfied: python-dateutil>=2.7 in /usr/local/lib/python3.11/dist-packages (from matplotlib) (2.9.0.post0)\n",
            "Requirement already satisfied: pytz>=2020.1 in /usr/local/lib/python3.11/dist-packages (from pandas) (2025.2)\n",
            "Requirement already satisfied: tzdata>=2022.7 in /usr/local/lib/python3.11/dist-packages (from pandas) (2025.2)\n",
            "Requirement already satisfied: filelock in /usr/local/lib/python3.11/dist-packages (from transformers) (3.18.0)\n",
            "Requirement already satisfied: huggingface-hub<1.0,>=0.30.0 in /usr/local/lib/python3.11/dist-packages (from transformers) (0.31.1)\n",
            "Requirement already satisfied: pyyaml>=5.1 in /usr/local/lib/python3.11/dist-packages (from transformers) (6.0.2)\n",
            "Requirement already satisfied: tokenizers<0.22,>=0.21 in /usr/local/lib/python3.11/dist-packages (from transformers) (0.21.1)\n",
            "Requirement already satisfied: safetensors>=0.4.3 in /usr/local/lib/python3.11/dist-packages (from transformers) (0.5.3)\n",
            "Requirement already satisfied: scipy>=1.6.0 in /usr/local/lib/python3.11/dist-packages (from scikit-learn) (1.13.1)\n",
            "Requirement already satisfied: threadpoolctl>=3.1.0 in /usr/local/lib/python3.11/dist-packages (from scikit-learn) (3.6.0)\n",
            "Requirement already satisfied: fsspec>=2023.5.0 in /usr/local/lib/python3.11/dist-packages (from huggingface-hub<1.0,>=0.30.0->transformers) (2025.3.2)\n",
            "Requirement already satisfied: typing-extensions>=3.7.4.3 in /usr/local/lib/python3.11/dist-packages (from huggingface-hub<1.0,>=0.30.0->transformers) (4.13.2)\n",
            "Requirement already satisfied: hf-xet<2.0.0,>=1.1.0 in /usr/local/lib/python3.11/dist-packages (from huggingface-hub<1.0,>=0.30.0->transformers) (1.1.0)\n",
            "Requirement already satisfied: language-data>=1.2 in /usr/local/lib/python3.11/dist-packages (from langcodes<4.0.0,>=3.2.0->spacy) (1.3.0)\n",
            "Requirement already satisfied: annotated-types>=0.6.0 in /usr/local/lib/python3.11/dist-packages (from pydantic!=1.8,!=1.8.1,<3.0.0,>=1.7.4->spacy) (0.7.0)\n",
            "Requirement already satisfied: pydantic-core==2.33.2 in /usr/local/lib/python3.11/dist-packages (from pydantic!=1.8,!=1.8.1,<3.0.0,>=1.7.4->spacy) (2.33.2)\n",
            "Requirement already satisfied: typing-inspection>=0.4.0 in /usr/local/lib/python3.11/dist-packages (from pydantic!=1.8,!=1.8.1,<3.0.0,>=1.7.4->spacy) (0.4.0)\n",
            "Requirement already satisfied: six>=1.5 in /usr/local/lib/python3.11/dist-packages (from python-dateutil>=2.7->matplotlib) (1.17.0)\n",
            "Requirement already satisfied: charset-normalizer<4,>=2 in /usr/local/lib/python3.11/dist-packages (from requests<3.0.0,>=2.13.0->spacy) (3.4.2)\n",
            "Requirement already satisfied: idna<4,>=2.5 in /usr/local/lib/python3.11/dist-packages (from requests<3.0.0,>=2.13.0->spacy) (3.10)\n",
            "Requirement already satisfied: urllib3<3,>=1.21.1 in /usr/local/lib/python3.11/dist-packages (from requests<3.0.0,>=2.13.0->spacy) (2.4.0)\n",
            "Requirement already satisfied: certifi>=2017.4.17 in /usr/local/lib/python3.11/dist-packages (from requests<3.0.0,>=2.13.0->spacy) (2025.4.26)\n",
            "Requirement already satisfied: blis<1.3.0,>=1.2.0 in /usr/local/lib/python3.11/dist-packages (from thinc<8.4.0,>=8.3.4->spacy) (1.2.1)\n",
            "Requirement already satisfied: confection<1.0.0,>=0.0.1 in /usr/local/lib/python3.11/dist-packages (from thinc<8.4.0,>=8.3.4->spacy) (0.1.5)\n",
            "Requirement already satisfied: shellingham>=1.3.0 in /usr/local/lib/python3.11/dist-packages (from typer<1.0.0,>=0.3.0->spacy) (1.5.4)\n",
            "Requirement already satisfied: rich>=10.11.0 in /usr/local/lib/python3.11/dist-packages (from typer<1.0.0,>=0.3.0->spacy) (13.9.4)\n",
            "Requirement already satisfied: cloudpathlib<1.0.0,>=0.7.0 in /usr/local/lib/python3.11/dist-packages (from weasel<0.5.0,>=0.1.0->spacy) (0.21.0)\n",
            "Requirement already satisfied: smart-open<8.0.0,>=5.2.1 in /usr/local/lib/python3.11/dist-packages (from weasel<0.5.0,>=0.1.0->spacy) (7.1.0)\n",
            "Requirement already satisfied: MarkupSafe>=2.0 in /usr/local/lib/python3.11/dist-packages (from jinja2->spacy) (3.0.2)\n",
            "Requirement already satisfied: marisa-trie>=1.1.0 in /usr/local/lib/python3.11/dist-packages (from language-data>=1.2->langcodes<4.0.0,>=3.2.0->spacy) (1.2.1)\n",
            "Requirement already satisfied: markdown-it-py>=2.2.0 in /usr/local/lib/python3.11/dist-packages (from rich>=10.11.0->typer<1.0.0,>=0.3.0->spacy) (3.0.0)\n",
            "Requirement already satisfied: pygments<3.0.0,>=2.13.0 in /usr/local/lib/python3.11/dist-packages (from rich>=10.11.0->typer<1.0.0,>=0.3.0->spacy) (2.19.1)\n",
            "Requirement already satisfied: wrapt in /usr/local/lib/python3.11/dist-packages (from smart-open<8.0.0,>=5.2.1->weasel<0.5.0,>=0.1.0->spacy) (1.17.2)\n",
            "Requirement already satisfied: mdurl~=0.1 in /usr/local/lib/python3.11/dist-packages (from markdown-it-py>=2.2.0->rich>=10.11.0->typer<1.0.0,>=0.3.0->spacy) (0.1.2)\n"
          ]
        }
      ],
      "source": [
        "# Instalación de paquetes necesarios\n",
        "!pip install nltk spacy wordcloud matplotlib seaborn pandas transformers scikit-learn"
      ]
    },
    {
      "cell_type": "code",
      "source": [
        "!python -m spacy download es_core_news_sm"
      ],
      "metadata": {
        "colab": {
          "base_uri": "https://localhost:8080/"
        },
        "id": "nEyvemIm4fsU",
        "outputId": "cd24cca6-1c63-4670-9c47-f55e6f97b9cc"
      },
      "execution_count": null,
      "outputs": [
        {
          "output_type": "stream",
          "name": "stdout",
          "text": [
            "Collecting es-core-news-sm==3.8.0\n",
            "  Using cached https://github.com/explosion/spacy-models/releases/download/es_core_news_sm-3.8.0/es_core_news_sm-3.8.0-py3-none-any.whl (12.9 MB)\n",
            "\u001b[38;5;2m✔ Download and installation successful\u001b[0m\n",
            "You can now load the package via spacy.load('es_core_news_sm')\n",
            "\u001b[38;5;3m⚠ Restart to reload dependencies\u001b[0m\n",
            "If you are in a Jupyter or Colab notebook, you may need to restart Python in\n",
            "order to load all the package's dependencies. You can do this by selecting the\n",
            "'Restart kernel' or 'Restart runtime' option.\n"
          ]
        }
      ]
    },
    {
      "cell_type": "code",
      "source": [
        "# Importación de bibliotecas\n",
        "import re\n",
        "import string\n",
        "import pandas as pd\n",
        "import numpy as np\n",
        "import matplotlib.pyplot as plt\n",
        "import seaborn as sns\n",
        "from collections import Counter\n",
        "import nltk\n",
        "from nltk.tokenize import word_tokenize, sent_tokenize\n",
        "from nltk.corpus import stopwords\n",
        "from nltk.stem import PorterStemmer, SnowballStemmer\n",
        "from nltk.stem import WordNetLemmatizer\n",
        "import spacy\n",
        "from wordcloud import WordCloud\n",
        "from transformers import AutoTokenizer"
      ],
      "metadata": {
        "id": "07JXLSP1UeZj"
      },
      "execution_count": null,
      "outputs": []
    },
    {
      "cell_type": "code",
      "source": [
        "# Descarga de recursos de NLTK\n",
        "nltk.download('punkt')\n",
        "nltk.download('punkt_tab')\n",
        "nltk.download('stopwords')\n",
        "nltk.download('wordnet')"
      ],
      "metadata": {
        "colab": {
          "base_uri": "https://localhost:8080/"
        },
        "id": "wnOywQW34dyZ",
        "outputId": "66cbc505-f608-4304-f690-35f7986af9a4"
      },
      "execution_count": null,
      "outputs": [
        {
          "output_type": "stream",
          "name": "stderr",
          "text": [
            "[nltk_data] Downloading package punkt to /root/nltk_data...\n",
            "[nltk_data]   Package punkt is already up-to-date!\n",
            "[nltk_data] Downloading package punkt_tab to /root/nltk_data...\n",
            "[nltk_data]   Unzipping tokenizers/punkt_tab.zip.\n",
            "[nltk_data] Downloading package stopwords to /root/nltk_data...\n",
            "[nltk_data]   Package stopwords is already up-to-date!\n",
            "[nltk_data] Downloading package wordnet to /root/nltk_data...\n",
            "[nltk_data]   Package wordnet is already up-to-date!\n"
          ]
        },
        {
          "output_type": "execute_result",
          "data": {
            "text/plain": [
              "True"
            ]
          },
          "metadata": {},
          "execution_count": 37
        }
      ]
    },
    {
      "cell_type": "markdown",
      "source": [
        "## 4.1. Normalización del texto\n",
        "\n",
        "La normalización consiste en transformar el texto a un formato estándar y uniforme para facilitar su análisis.\n",
        "\n",
        "### 4.1.1 Carga de datos\n",
        "\n",
        "Trabajaremos con dos discursos políticos: uno del ex-presidente colombiano Iván Duque y otro del actual presidente Gustavo Petro, ambos presentados ante la ONU.\n"
      ],
      "metadata": {
        "id": "Et0Embeq5aJ4"
      }
    },
    {
      "cell_type": "code",
      "source": [
        "   from google.colab import drive\n",
        "   drive.mount('/content/drive')"
      ],
      "metadata": {
        "colab": {
          "base_uri": "https://localhost:8080/"
        },
        "id": "IBYJe8h27rwX",
        "outputId": "d2d00657-ae36-4dc6-cf39-22e6ddcc820d"
      },
      "execution_count": null,
      "outputs": [
        {
          "output_type": "stream",
          "name": "stdout",
          "text": [
            "Drive already mounted at /content/drive; to attempt to forcibly remount, call drive.mount(\"/content/drive\", force_remount=True).\n"
          ]
        }
      ]
    },
    {
      "cell_type": "code",
      "source": [
        "# Cargar los discursos\n",
        "ruta_duque = '/content/drive/MyDrive/Clases/NLP para ciencias sociales/2. Del preprocesamiento tradicional a representaciones modernas I/Datos/discurso_onu_duque.txt'  # Reemplaza con la ruta correcta\n",
        "ruta_petro = '/content/drive/MyDrive/Clases/NLP para ciencias sociales/2. Del preprocesamiento tradicional a representaciones modernas I/Datos/discurso_onu_petro.txt'  # Reemplaza con la ruta correcta"
      ],
      "metadata": {
        "id": "IdAY6pdn73mJ"
      },
      "execution_count": null,
      "outputs": []
    },
    {
      "cell_type": "code",
      "source": [
        "# Cargar los discursos\n",
        "with open(ruta_duque, 'r', encoding='utf-8') as file:\n",
        "    discurso_duque = file.read()\n",
        "\n",
        "with open(ruta_petro, 'r', encoding='utf-8') as file:\n",
        "    discurso_petro = file.read()"
      ],
      "metadata": {
        "id": "elT4ktse5eTk"
      },
      "execution_count": null,
      "outputs": []
    },
    {
      "cell_type": "code",
      "source": [
        "# Mostrar los primeros párrafos de cada discurso\n",
        "print(\"Primeras líneas del discurso de Duque:\")\n",
        "print(discurso_duque.split('\\n')[0:3])\n",
        "print(\"\\nPrimeras líneas del discurso de Petro:\")\n",
        "print(discurso_petro.split('\\n')[0:3])"
      ],
      "metadata": {
        "colab": {
          "base_uri": "https://localhost:8080/"
        },
        "id": "iHNCcRlQ6fYL",
        "outputId": "33fa1693-86c4-45fd-cf4f-1692507b06f6"
      },
      "execution_count": null,
      "outputs": [
        {
          "output_type": "stream",
          "name": "stdout",
          "text": [
            "Primeras líneas del discurso de Duque:\n",
            "['Nos encontramos de nuevo en este foro global que ha sido históricamente un espacio vital para el desarrollo del multilateralismo, la construcción global de la paz y de soluciones a las amenazas de nuestra casa común. Lo hacemos aun en medio de una pandemia cruel que golpea nuestros sistemas de salud, nuestras economías, nuestras conquistas de equidad y el avance de la Agenda 2030.', 'Por encima de cualquier consideración, nos encontramos una vez más en este histórico hemiciclo recordando la fragilidad del ser humano y, al mismo tiempo, reconociendo la grandeza y la condición de una raza humana que sabe sobreponerse a los grandes desafíos.', 'El covid-19 irrumpió de manera abrupta en nuestras vidas. Cambió nuestra cotidianidad, nuestra interacción y nos arrebató seres queridos. Este virus letal ha puesto a prueba nuestras emociones para entender, HOY MÁS QUE NUNCA, cuánto vale el abrazo de un padre y el de una madre, cuánto significa compartir en familia, cuánto nos llena un encuentro amigable inesperado.']\n",
            "\n",
            "Primeras líneas del discurso de Petro:\n",
            "['Vengo de uno de los tres países más bellos de la Tierra.', 'Allí hay una explosión de vida. Miles de especies multicolores en los mares, en los cielos, en las tierras... vengo de la tierra de las mariposas amarillas y de la magia. Allí en las montañas y valles de todos los verdes, no solo bajan las aguas abundantes, bajan también los torrentes de la sangre. Vengo de un país de belleza ensangrentada.', 'Mi país no solo es bello, es también violento.']\n"
          ]
        }
      ]
    },
    {
      "cell_type": "markdown",
      "source": [
        "### 4.1.2 Funciones de normalización\n",
        "\n",
        "La normalización incluye varios procesos como:\n",
        "1. Convertir a minúsculas\n",
        "2. Eliminar números\n",
        "3. Eliminar signos de puntuación\n",
        "4. Eliminar espacios extra\n",
        "5. Eliminar caracteres especiales"
      ],
      "metadata": {
        "id": "DIC04jxI62JR"
      }
    },
    {
      "cell_type": "code",
      "source": [
        "def normalizar_texto_basico(texto):\n",
        "    \"\"\"Normalización básica: convertir a minúsculas y eliminar espacios extra\"\"\"\n",
        "    texto = texto.lower()\n",
        "    texto = re.sub(r'\\s+', ' ', texto).strip()\n",
        "    return texto\n",
        "\n",
        "def normalizar_texto_intermedio(texto):\n",
        "    \"\"\"Normalización intermedia: minúsculas, eliminar puntuación y espacios extra\"\"\"\n",
        "    texto = texto.lower()\n",
        "    texto = texto.translate(str.maketrans('', '', string.punctuation + '¿¡'))\n",
        "    texto = re.sub(r'\\s+', ' ', texto).strip()\n",
        "    return texto\n",
        "\n",
        "def normalizar_texto_completo(texto):\n",
        "    \"\"\"Normalización completa: minúsculas, eliminar números, puntuación y espacios extra\"\"\"\n",
        "    texto = texto.lower()\n",
        "    texto = re.sub(r'\\d+', '', texto)  # Eliminar números\n",
        "    texto = texto.translate(str.maketrans('', '', string.punctuation + '¿¡'))\n",
        "    texto = re.sub(r'\\s+', ' ', texto).strip()\n",
        "    return texto"
      ],
      "metadata": {
        "id": "j5LZZYs563B1"
      },
      "execution_count": null,
      "outputs": []
    },
    {
      "cell_type": "code",
      "source": [
        "# Comparemos los diferentes niveles de normalización\n",
        "ejemplos = [\n",
        "    \"¡Hola, Mundo! Este es un EJEMPLO de texto con Números: 123, 456.\",\n",
        "    \"Las naciones UNIDAS (ONU) se fundaron en 1945, tras la 2ª Guerra Mundial.\"\n",
        "]\n",
        "\n",
        "for i, ejemplo in enumerate(ejemplos):\n",
        "    print(f\"Ejemplo {i+1} original: {ejemplo}\")\n",
        "    print(f\"Normalización básica: {normalizar_texto_basico(ejemplo)}\")\n",
        "    print(f\"Normalización intermedia: {normalizar_texto_intermedio(ejemplo)}\")\n",
        "    print(f\"Normalización completa: {normalizar_texto_completo(ejemplo)}\")\n",
        "    print()"
      ],
      "metadata": {
        "colab": {
          "base_uri": "https://localhost:8080/"
        },
        "id": "2eWn7loa666v",
        "outputId": "9a01df1e-76b3-4e57-ec13-aae0163e1a9d"
      },
      "execution_count": null,
      "outputs": [
        {
          "output_type": "stream",
          "name": "stdout",
          "text": [
            "Ejemplo 1 original: ¡Hola, Mundo! Este es un EJEMPLO de texto con Números: 123, 456.\n",
            "Normalización básica: ¡hola, mundo! este es un ejemplo de texto con números: 123, 456.\n",
            "Normalización intermedia: hola mundo este es un ejemplo de texto con números 123 456\n",
            "Normalización completa: hola mundo este es un ejemplo de texto con números\n",
            "\n",
            "Ejemplo 2 original: Las naciones UNIDAS (ONU) se fundaron en 1945, tras la 2ª Guerra Mundial.\n",
            "Normalización básica: las naciones unidas (onu) se fundaron en 1945, tras la 2ª guerra mundial.\n",
            "Normalización intermedia: las naciones unidas onu se fundaron en 1945 tras la 2ª guerra mundial\n",
            "Normalización completa: las naciones unidas onu se fundaron en tras la ª guerra mundial\n",
            "\n"
          ]
        }
      ]
    },
    {
      "cell_type": "markdown",
      "source": [
        "### 4.1.3 Impacto de la normalización en los discursos\n",
        "\n",
        "Veamos cómo la normalización afecta nuestros discursos políticos:\n"
      ],
      "metadata": {
        "id": "CZpj9Dhn7byM"
      }
    },
    {
      "cell_type": "code",
      "source": [
        "# Normalizar los discursos\n",
        "duque_norm_basico = normalizar_texto_basico(discurso_duque)\n",
        "duque_norm_completo = normalizar_texto_completo(discurso_duque)\n",
        "\n",
        "petro_norm_basico = normalizar_texto_basico(discurso_petro)\n",
        "petro_norm_completo = normalizar_texto_completo(discurso_petro)"
      ],
      "metadata": {
        "id": "UufLEVEy7c0O"
      },
      "execution_count": null,
      "outputs": []
    },
    {
      "cell_type": "code",
      "source": [
        "# Comparar estadísticas básicas antes y después de la normalización\n",
        "def estadisticas_texto(nombre, original, norm_basico, norm_completo):\n",
        "    stats = {\n",
        "        'Caracteres (original)': len(original),\n",
        "        'Palabras (original)': len(original.split()),\n",
        "        'Caracteres (norm. básica)': len(norm_basico),\n",
        "        'Palabras (norm. básica)': len(norm_basico.split()),\n",
        "        'Caracteres (norm. completa)': len(norm_completo),\n",
        "        'Palabras (norm. completa)': len(norm_completo.split()),\n",
        "    }\n",
        "\n",
        "    print(f\"Estadísticas de texto para {nombre}:\")\n",
        "    for key, value in stats.items():\n",
        "        print(f\"- {key}: {value}\")\n",
        "    print()\n",
        "\n",
        "    return stats"
      ],
      "metadata": {
        "id": "8Djwyryl80mH"
      },
      "execution_count": null,
      "outputs": []
    },
    {
      "cell_type": "code",
      "source": [
        "stats_duque = estadisticas_texto(\"Discurso de Duque\", discurso_duque, duque_norm_basico, duque_norm_completo)\n",
        "stats_petro = estadisticas_texto(\"Discurso de Petro\", discurso_petro, petro_norm_basico, petro_norm_completo)"
      ],
      "metadata": {
        "colab": {
          "base_uri": "https://localhost:8080/"
        },
        "id": "nhV1pJCZ84mu",
        "outputId": "363e0da2-5e4c-4561-e5fd-01216f87ec5f"
      },
      "execution_count": null,
      "outputs": [
        {
          "output_type": "stream",
          "name": "stdout",
          "text": [
            "Estadísticas de texto para Discurso de Duque:\n",
            "- Caracteres (original): 16829\n",
            "- Palabras (original): 2682\n",
            "- Caracteres (norm. básica): 16828\n",
            "- Palabras (norm. básica): 2682\n",
            "- Caracteres (norm. completa): 16459\n",
            "- Palabras (norm. completa): 2664\n",
            "\n",
            "Estadísticas de texto para Discurso de Petro:\n",
            "- Caracteres (original): 12430\n",
            "- Palabras (original): 2165\n",
            "- Caracteres (norm. básica): 12430\n",
            "- Palabras (norm. básica): 2165\n",
            "- Caracteres (norm. completa): 12131\n",
            "- Palabras (norm. completa): 2161\n",
            "\n"
          ]
        }
      ]
    },
    {
      "cell_type": "code",
      "source": [
        "# Visualización del impacto de la normalización\n",
        "stats_df = pd.DataFrame({\n",
        "    'Duque': [stats_duque['Caracteres (original)'], stats_duque['Palabras (original)'],\n",
        "             stats_duque['Caracteres (norm. completa)'], stats_duque['Palabras (norm. completa)']],\n",
        "    'Petro': [stats_petro['Caracteres (original)'], stats_petro['Palabras (original)'],\n",
        "             stats_petro['Caracteres (norm. completa)'], stats_petro['Palabras (norm. completa)']]\n",
        "}, index=['Caracteres (original)', 'Palabras (original)',\n",
        "          'Caracteres (norm. completa)', 'Palabras (norm. completa)'])"
      ],
      "metadata": {
        "id": "gZZLPGil89FV"
      },
      "execution_count": null,
      "outputs": []
    },
    {
      "cell_type": "code",
      "source": [
        "# Gráfico de barras para comparar\n",
        "stats_df.plot(kind='bar', figsize=(12, 6))\n",
        "plt.title('Impacto de la normalización en los discursos')\n",
        "plt.ylabel('Cantidad')\n",
        "plt.xticks(rotation=45)\n",
        "plt.tight_layout()\n",
        "plt.show()"
      ],
      "metadata": {
        "colab": {
          "base_uri": "https://localhost:8080/",
          "height": 607
        },
        "id": "e3psB0h28_Da",
        "outputId": "a5c7af6f-bc8a-4acd-b192-cd2c79bd8e99"
      },
      "execution_count": null,
      "outputs": [
        {
          "output_type": "display_data",
          "data": {
            "text/plain": [
              "<Figure size 1200x600 with 1 Axes>"
            ],
            "image/png": "[encoded data removed]"
          },
          "metadata": {}
        }
      ]
    },
    {
      "cell_type": "markdown",
      "source": [
        "### 4.1.4 Consideraciones sobre la normalización\n",
        "\n",
        "Discutamos los casos en los que podríamos querer conservar ciertos elementos:"
      ],
      "metadata": {
        "id": "CZE8S9LW9GwL"
      }
    },
    {
      "cell_type": "code",
      "source": [
        "# Ejemplos donde la normalización puede eliminar información relevante\n",
        "ejemplos_informacion_relevante = [\n",
        "    \"La ONU fue fundada en 1945.\",  # Fechas importantes\n",
        "    \"El presidente ENFATIZÓ su punto.\",  # Mayúsculas para énfasis\n",
        "    \"Las FARC-EP firmaron el acuerdo de paz.\",  # Siglas y entidades\n",
        "    \"El PIB creció un 3,5% en 2022.\",  # Porcentajes y cifras\n",
        "    \"@PresidenciaColombia anunció medidas.\"  # Usuarios de redes sociales\n",
        "]"
      ],
      "metadata": {
        "id": "6RsygVFW9Ejj"
      },
      "execution_count": null,
      "outputs": []
    },
    {
      "cell_type": "code",
      "source": [
        "print(\"Ejemplos donde la normalización puede eliminar información relevante:\")\n",
        "for i, ejemplo in enumerate(ejemplos_informacion_relevante):\n",
        "    print(f\"\\nEjemplo {i+1}:\")\n",
        "    print(f\"Original: {ejemplo}\")\n",
        "    print(f\"Normalizado: {normalizar_texto_completo(ejemplo)}\")\n",
        "    print(f\"Información potencialmente perdida: \", end=\"\")\n",
        "\n",
        "    if i == 0:\n",
        "        print(\"Fecha histórica (1945)\")\n",
        "    elif i == 1:\n",
        "        print(\"Énfasis en 'ENFATIZÓ' indicado por mayúsculas\")\n",
        "    elif i == 2:\n",
        "        print(\"Sigla política con guión (FARC-EP)\")\n",
        "    elif i == 3:\n",
        "        print(\"Valores numéricos y porcentaje (3,5%)\")\n",
        "    elif i == 4:\n",
        "        print(\"Referencia a cuenta de red social (@PresidenciaColombia)\")"
      ],
      "metadata": {
        "colab": {
          "base_uri": "https://localhost:8080/"
        },
        "id": "vaDCudos9LIC",
        "outputId": "1caa1a14-203a-4453-eb14-528180a9bf15"
      },
      "execution_count": null,
      "outputs": [
        {
          "output_type": "stream",
          "name": "stdout",
          "text": [
            "Ejemplos donde la normalización puede eliminar información relevante:\n",
            "\n",
            "Ejemplo 1:\n",
            "Original: La ONU fue fundada en 1945.\n",
            "Normalizado: la onu fue fundada en\n",
            "Información potencialmente perdida: Fecha histórica (1945)\n",
            "\n",
            "Ejemplo 2:\n",
            "Original: El presidente ENFATIZÓ su punto.\n",
            "Normalizado: el presidente enfatizó su punto\n",
            "Información potencialmente perdida: Énfasis en 'ENFATIZÓ' indicado por mayúsculas\n",
            "\n",
            "Ejemplo 3:\n",
            "Original: Las FARC-EP firmaron el acuerdo de paz.\n",
            "Normalizado: las farcep firmaron el acuerdo de paz\n",
            "Información potencialmente perdida: Sigla política con guión (FARC-EP)\n",
            "\n",
            "Ejemplo 4:\n",
            "Original: El PIB creció un 3,5% en 2022.\n",
            "Normalizado: el pib creció un en\n",
            "Información potencialmente perdida: Valores numéricos y porcentaje (3,5%)\n",
            "\n",
            "Ejemplo 5:\n",
            "Original: @PresidenciaColombia anunció medidas.\n",
            "Normalizado: presidenciacolombia anunció medidas\n",
            "Información potencialmente perdida: Referencia a cuenta de red social (@PresidenciaColombia)\n"
          ]
        }
      ]
    },
    {
      "cell_type": "markdown",
      "source": [
        "## 4.2 Tokenización\n",
        "\n",
        "La tokenización es el proceso de dividir el texto en unidades más pequeñas (tokens), generalmente palabras o frases.\n",
        "\n",
        "### 4.2.1 Tokenización tradicional con NLTK"
      ],
      "metadata": {
        "id": "ryzo-qJ39lYR"
      }
    },
    {
      "cell_type": "code",
      "source": [
        "# Tokenización básica de frases y palabras con NLTK\n",
        "def tokenizar_nltk(texto):\n",
        "    # Tokenizar en frases\n",
        "    frases = sent_tokenize(texto)\n",
        "\n",
        "    # Tokenizar cada frase en palabras\n",
        "    tokens_por_frase = [word_tokenize(frase) for frase in frases]\n",
        "\n",
        "    # Aplanar la lista de tokens\n",
        "    tokens = [token for frase in tokens_por_frase for token in frase]\n",
        "\n",
        "    return frases, tokens"
      ],
      "metadata": {
        "id": "Hcg39qzy9lEo"
      },
      "execution_count": null,
      "outputs": []
    },
    {
      "cell_type": "code",
      "source": [
        "# Aplicar tokenización a un fragmento de cada discurso\n",
        "fragmento_duque = ' '.join(discurso_duque.split('\\n')[0:3])\n",
        "fragmento_petro = ' '.join(discurso_petro.split('\\n')[0:3])\n",
        "\n",
        "frases_duque, tokens_duque = tokenizar_nltk(fragmento_duque)\n",
        "frases_petro, tokens_petro = tokenizar_nltk(fragmento_petro)"
      ],
      "metadata": {
        "id": "rEzd24iC9xfo"
      },
      "execution_count": null,
      "outputs": []
    },
    {
      "cell_type": "code",
      "source": [
        "print(f\"Fragmento del discurso de Duque:\")\n",
        "print(fragmento_duque)\n",
        "print(f\"\\nNúmero de frases: {len(frases_duque)}\")\n",
        "print(f\"Primeras 3 frases tokenizadas:\")\n",
        "for i, frase in enumerate(frases_duque[:3]):\n",
        "    print(f\"  Frase {i+1}: {frase}\")\n",
        "\n",
        "print(f\"\\nNúmero de tokens: {len(tokens_duque)}\")\n",
        "print(f\"Primeros 15 tokens: {tokens_duque[:15]}\")\n",
        "\n",
        "print(\"\\n\" + \"=\"*80 + \"\\n\")\n",
        "\n",
        "print(f\"Fragmento del discurso de Petro:\")\n",
        "print(fragmento_petro)\n",
        "print(f\"\\nNúmero de frases: {len(frases_petro)}\")\n",
        "print(f\"Primeras 3 frases tokenizadas:\")\n",
        "for i, frase in enumerate(frases_petro[:3]):\n",
        "    print(f\"  Frase {i+1}: {frase}\")\n",
        "\n",
        "print(f\"\\nNúmero de tokens: {len(tokens_petro)}\")\n",
        "print(f\"Primeros 15 tokens: {tokens_petro[:15]}\")"
      ],
      "metadata": {
        "colab": {
          "base_uri": "https://localhost:8080/"
        },
        "id": "hFzN79Lp96d1",
        "outputId": "02d643ba-595a-4823-bb8b-8a42fd10db26"
      },
      "execution_count": null,
      "outputs": [
        {
          "output_type": "stream",
          "name": "stdout",
          "text": [
            "Fragmento del discurso de Duque:\n",
            "Nos encontramos de nuevo en este foro global que ha sido históricamente un espacio vital para el desarrollo del multilateralismo, la construcción global de la paz y de soluciones a las amenazas de nuestra casa común. Lo hacemos aun en medio de una pandemia cruel que golpea nuestros sistemas de salud, nuestras economías, nuestras conquistas de equidad y el avance de la Agenda 2030. Por encima de cualquier consideración, nos encontramos una vez más en este histórico hemiciclo recordando la fragilidad del ser humano y, al mismo tiempo, reconociendo la grandeza y la condición de una raza humana que sabe sobreponerse a los grandes desafíos. El covid-19 irrumpió de manera abrupta en nuestras vidas. Cambió nuestra cotidianidad, nuestra interacción y nos arrebató seres queridos. Este virus letal ha puesto a prueba nuestras emociones para entender, HOY MÁS QUE NUNCA, cuánto vale el abrazo de un padre y el de una madre, cuánto significa compartir en familia, cuánto nos llena un encuentro amigable inesperado.\n",
            "\n",
            "Número de frases: 6\n",
            "Primeras 3 frases tokenizadas:\n",
            "  Frase 1: Nos encontramos de nuevo en este foro global que ha sido históricamente un espacio vital para el desarrollo del multilateralismo, la construcción global de la paz y de soluciones a las amenazas de nuestra casa común.\n",
            "  Frase 2: Lo hacemos aun en medio de una pandemia cruel que golpea nuestros sistemas de salud, nuestras economías, nuestras conquistas de equidad y el avance de la Agenda 2030.\n",
            "  Frase 3: Por encima de cualquier consideración, nos encontramos una vez más en este histórico hemiciclo recordando la fragilidad del ser humano y, al mismo tiempo, reconociendo la grandeza y la condición de una raza humana que sabe sobreponerse a los grandes desafíos.\n",
            "\n",
            "Número de tokens: 180\n",
            "Primeros 15 tokens: ['Nos', 'encontramos', 'de', 'nuevo', 'en', 'este', 'foro', 'global', 'que', 'ha', 'sido', 'históricamente', 'un', 'espacio', 'vital']\n",
            "\n",
            "================================================================================\n",
            "\n",
            "Fragmento del discurso de Petro:\n",
            "Vengo de uno de los tres países más bellos de la Tierra. Allí hay una explosión de vida. Miles de especies multicolores en los mares, en los cielos, en las tierras... vengo de la tierra de las mariposas amarillas y de la magia. Allí en las montañas y valles de todos los verdes, no solo bajan las aguas abundantes, bajan también los torrentes de la sangre. Vengo de un país de belleza ensangrentada. Mi país no solo es bello, es también violento.\n",
            "\n",
            "Número de frases: 6\n",
            "Primeras 3 frases tokenizadas:\n",
            "  Frase 1: Vengo de uno de los tres países más bellos de la Tierra.\n",
            "  Frase 2: Allí hay una explosión de vida.\n",
            "  Frase 3: Miles de especies multicolores en los mares, en los cielos, en las tierras... vengo de la tierra de las mariposas amarillas y de la magia.\n",
            "\n",
            "Número de tokens: 94\n",
            "Primeros 15 tokens: ['Vengo', 'de', 'uno', 'de', 'los', 'tres', 'países', 'más', 'bellos', 'de', 'la', 'Tierra', '.', 'Allí', 'hay']\n"
          ]
        }
      ]
    },
    {
      "cell_type": "markdown",
      "source": [
        "### 4.2.2 Tokenización con spaCy\n"
      ],
      "metadata": {
        "id": "wM6oWzf9-Dmx"
      }
    },
    {
      "cell_type": "code",
      "source": [
        "# Cargar el modelo en español de spaCy\n",
        "nlp = spacy.load(\"es_core_news_sm\")\n",
        "\n",
        "def tokenizar_spacy(texto):\n",
        "    # Procesar el texto con spaCy\n",
        "    doc = nlp(texto)\n",
        "\n",
        "    # Extraer frases\n",
        "    frases = [sent.text for sent in doc.sents]\n",
        "\n",
        "    # Extraer tokens\n",
        "    tokens = [token.text for token in doc]\n",
        "\n",
        "    # Extraer lemas\n",
        "    lemas = [token.lemma_ for token in doc]\n",
        "\n",
        "    # Extraer entidades nombradas\n",
        "    entidades = [(ent.text, ent.label_) for ent in doc.ents]\n",
        "\n",
        "    return frases, tokens, lemas, entidades"
      ],
      "metadata": {
        "id": "YM7RNV0C-Eon"
      },
      "execution_count": null,
      "outputs": []
    },
    {
      "cell_type": "code",
      "source": [
        "# Aplicar tokenización de spaCy a los fragmentos\n",
        "frases_spacy_duque, tokens_spacy_duque, lemas_spacy_duque, entidades_duque = tokenizar_spacy(fragmento_duque)\n",
        "frases_spacy_petro, tokens_spacy_petro, lemas_spacy_petro, entidades_petro = tokenizar_spacy(fragmento_petro)"
      ],
      "metadata": {
        "id": "YrEMfxF2-KpS"
      },
      "execution_count": null,
      "outputs": []
    },
    {
      "cell_type": "code",
      "source": [
        "print(\"Tokenización con spaCy - Fragmento de Duque:\")\n",
        "print(f\"Número de frases: {len(frases_spacy_duque)}\")\n",
        "print(f\"Número de tokens: {len(tokens_spacy_duque)}\")\n",
        "print(f\"Primeros 15 tokens: {tokens_spacy_duque[:15]}\")\n",
        "print(\"\\nEntidades nombradas encontradas:\")\n",
        "for entidad, tipo in entidades_duque:\n",
        "    print(f\"  - '{entidad}' ({tipo})\")\n",
        "\n",
        "print(\"\\n\" + \"=\"*80 + \"\\n\")\n",
        "\n",
        "print(\"Tokenización con spaCy - Fragmento de Petro:\")\n",
        "print(f\"Número de frases: {len(frases_spacy_petro)}\")\n",
        "print(f\"Número de tokens: {len(tokens_spacy_petro)}\")\n",
        "print(f\"Primeros 15 tokens: {tokens_spacy_petro[:15]}\")\n",
        "print(\"\\nEntidades nombradas encontradas:\")\n",
        "for entidad, tipo in entidades_petro:\n",
        "    print(f\"  - '{entidad}' ({tipo})\")"
      ],
      "metadata": {
        "colab": {
          "base_uri": "https://localhost:8080/"
        },
        "id": "yN2RIusc-MWC",
        "outputId": "5868450e-ea36-4eec-90f6-23702b6028a8"
      },
      "execution_count": null,
      "outputs": [
        {
          "output_type": "stream",
          "name": "stdout",
          "text": [
            "Tokenización con spaCy - Fragmento de Duque:\n",
            "Número de frases: 6\n",
            "Número de tokens: 180\n",
            "Primeros 15 tokens: ['Nos', 'encontramos', 'de', 'nuevo', 'en', 'este', 'foro', 'global', 'que', 'ha', 'sido', 'históricamente', 'un', 'espacio', 'vital']\n",
            "\n",
            "Entidades nombradas encontradas:\n",
            "  - 'Lo hacemos aun en medio de una pandemia cruel' (MISC)\n",
            "  - 'Agenda 2030' (MISC)\n",
            "  - 'Cambió' (LOC)\n",
            "  - 'arrebató seres' (PER)\n",
            "  - 'NUNCA' (ORG)\n",
            "\n",
            "================================================================================\n",
            "\n",
            "Tokenización con spaCy - Fragmento de Petro:\n",
            "Número de frases: 6\n",
            "Número de tokens: 94\n",
            "Primeros 15 tokens: ['Vengo', 'de', 'uno', 'de', 'los', 'tres', 'países', 'más', 'bellos', 'de', 'la', 'Tierra', '.', 'Allí', 'hay']\n",
            "\n",
            "Entidades nombradas encontradas:\n",
            "  - 'Vengo' (LOC)\n",
            "  - 'la Tierra' (LOC)\n",
            "  - 'Allí' (LOC)\n",
            "  - 'Miles de especies multicolores' (MISC)\n",
            "  - 'Allí' (PER)\n",
            "  - 'Vengo' (LOC)\n",
            "  - 'Mi país no solo es bello' (MISC)\n"
          ]
        }
      ]
    },
    {
      "cell_type": "markdown",
      "source": [
        "### 4.2.3 Tokenización con modelos de Hugging Face"
      ],
      "metadata": {
        "id": "Nk3mnQd2-PUU"
      }
    },
    {
      "cell_type": "code",
      "source": [
        "# Cargar tokenizadores de Hugging Face para español\n",
        "tokenizador_bert = AutoTokenizer.from_pretrained(\"dccuchile/bert-base-spanish-wwm-cased\")\n",
        "tokenizador_roberta = AutoTokenizer.from_pretrained(\"PlanTL-GOB-ES/roberta-base-bne\")"
      ],
      "metadata": {
        "id": "mpp2uk1i-RBa"
      },
      "execution_count": null,
      "outputs": []
    },
    {
      "cell_type": "code",
      "source": [
        "def tokenizar_transformers(texto, tokenizador, mostrar_ids=False):\n",
        "    # Tokenizar con el modelo de Hugging Face\n",
        "    tokens = tokenizador.tokenize(texto)\n",
        "\n",
        "    if mostrar_ids:\n",
        "        # Obtener los IDs de los tokens\n",
        "        inputs = tokenizador(texto, return_tensors=\"pt\")\n",
        "        token_ids = inputs[\"input_ids\"][0].tolist()\n",
        "        return tokens, token_ids\n",
        "    else:\n",
        "        return tokens"
      ],
      "metadata": {
        "id": "P0FO1CRs-Y1i"
      },
      "execution_count": null,
      "outputs": []
    },
    {
      "cell_type": "code",
      "source": [
        "# Aplicar tokenización con modelos transformers a fragmentos más cortos\n",
        "muestra_duque = discurso_duque.split('\\n')[0]\n",
        "muestra_petro = discurso_petro.split('\\n')[0]\n",
        "\n",
        "print(\"Fragmento más corto de Duque:\")\n",
        "print(muestra_duque)\n",
        "tokens_bert_duque = tokenizar_transformers(muestra_duque, tokenizador_bert)\n",
        "tokens_roberta_duque = tokenizar_transformers(muestra_duque, tokenizador_roberta)\n",
        "\n",
        "print(\"\\nTokenización con BERT:\")\n",
        "print(f\"Número de tokens: {len(tokens_bert_duque)}\")\n",
        "print(f\"Tokens: {tokens_bert_duque}\")\n",
        "\n",
        "print(\"\\nTokenización con RoBERTa:\")\n",
        "print(f\"Número de tokens: {len(tokens_roberta_duque)}\")\n",
        "print(f\"Tokens: {tokens_roberta_duque}\")\n",
        "\n",
        "print(\"\\n\" + \"=\"*80 + \"\\n\")\n",
        "\n",
        "print(\"Fragmento más corto de Petro:\")\n",
        "print(muestra_petro)\n",
        "tokens_bert_petro = tokenizar_transformers(muestra_petro, tokenizador_bert)\n",
        "tokens_roberta_petro = tokenizar_transformers(muestra_petro, tokenizador_roberta)\n",
        "\n",
        "print(\"\\nTokenización con BERT:\")\n",
        "print(f\"Número de tokens: {len(tokens_bert_petro)}\")\n",
        "print(f\"Tokens: {tokens_bert_petro}\")\n",
        "\n",
        "print(\"\\nTokenización con RoBERTa:\")\n",
        "print(f\"Número de tokens: {len(tokens_roberta_petro)}\")\n",
        "print(f\"Tokens: {tokens_roberta_petro}\")"
      ],
      "metadata": {
        "id": "Q6MTBsWv-bKE"
      },
      "execution_count": null,
      "outputs": []
    },
    {
      "cell_type": "markdown",
      "source": [
        "### 4.2.4 Comparación de tokenizadores"
      ],
      "metadata": {
        "id": "OKugHEun-ha7"
      }
    },
    {
      "cell_type": "code",
      "source": [
        "# Función para comparar resultados de tokenización para un ejemplo\n",
        "def comparar_tokenizadores(texto, titulo=\"Comparación de tokenizadores\"):\n",
        "    # NLTK\n",
        "    _, tokens_nltk = tokenizar_nltk(texto)\n",
        "\n",
        "    # spaCy\n",
        "    _, tokens_spacy, _, _ = tokenizar_spacy(texto)\n",
        "\n",
        "    # BERT\n",
        "    tokens_bert = tokenizar_transformers(texto, tokenizador_bert)\n",
        "\n",
        "    # RoBERTa\n",
        "    tokens_roberta = tokenizar_transformers(texto, tokenizador_roberta)\n",
        "\n",
        "    # Crear un DataFrame para comparar\n",
        "    comparacion = pd.DataFrame({\n",
        "        'Tokenizador': ['NLTK', 'spaCy', 'BERT', 'RoBERTa'],\n",
        "        'Número de tokens': [len(tokens_nltk), len(tokens_spacy), len(tokens_bert), len(tokens_roberta)]\n",
        "    })\n",
        "\n",
        "    # Mostrar comparación\n",
        "    print(f\"\\n{titulo}\")\n",
        "    print(comparacion)\n",
        "\n",
        "    # Visualizar\n",
        "    plt.figure(figsize=(10, 5))\n",
        "    sns.barplot(x='Tokenizador', y='Número de tokens', data=comparacion)\n",
        "    plt.title(titulo)\n",
        "    plt.xlabel('Tokenizador')\n",
        "    plt.ylabel('Número de tokens')\n",
        "    plt.tight_layout()\n",
        "    plt.show()\n",
        "\n",
        "    return comparacion"
      ],
      "metadata": {
        "id": "5YDI--H6-jEU"
      },
      "execution_count": null,
      "outputs": []
    },
    {
      "cell_type": "code",
      "source": [
        "# Ejemplos específicos para mostrar diferencias entre tokenizadores\n",
        "ejemplos_tokenizacion = [\n",
        "    \"Las Naciones Unidas defienden la paz mundial.\",\n",
        "    \"El acuerdo de paz con las FARC-EP fue histórico.\",\n",
        "    \"La biodiversidad en Colombia es extraordinaria.\",\n",
        "    \"El COVID-19 generó una crisis económica global.\",\n",
        "    \"narcodictadura, narcoterrorista, latinoamericanos\"  # Palabras compuestas\n",
        "]"
      ],
      "metadata": {
        "id": "zo3rCxhR-ohA"
      },
      "execution_count": null,
      "outputs": []
    },
    {
      "cell_type": "code",
      "source": [
        "for i, ejemplo in enumerate(ejemplos_tokenizacion):\n",
        "    comparar_tokenizadores(ejemplo, f\"Ejemplo {i+1}: {ejemplo}\")"
      ],
      "metadata": {
        "id": "tZuNj2x--q3i"
      },
      "execution_count": null,
      "outputs": []
    },
    {
      "cell_type": "markdown",
      "source": [
        "### 4.2.5 Tokenización de palabras compuestas y fuera del vocabulario (OOV)"
      ],
      "metadata": {
        "id": "nMc8Cyeg-t1F"
      }
    },
    {
      "cell_type": "code",
      "source": [
        "# Palabras que pueden ser desafiantes para los tokenizadores\n",
        "palabras_complejas = [\n",
        "    \"narcodictadura\",  # Usado por Duque\n",
        "    \"latinoamericanos\",\n",
        "    \"COVID-19\",\n",
        "    \"antirrevolucionario\",\n",
        "    \"narco-economía\",\n",
        "    \"TikTok\"  # Palabra moderna\n",
        "]"
      ],
      "metadata": {
        "id": "ZIKn3RLi-uL2"
      },
      "execution_count": null,
      "outputs": []
    },
    {
      "cell_type": "code",
      "source": [
        "print(\"Análisis de tokenización para palabras complejas:\\n\")\n",
        "\n",
        "for palabra in palabras_complejas:\n",
        "    print(f\"Palabra: '{palabra}'\")\n",
        "\n",
        "    # NLTK\n",
        "    _, tokens_nltk = tokenizar_nltk(palabra)\n",
        "    print(f\"  NLTK: {tokens_nltk}\")\n",
        "\n",
        "    # spaCy\n",
        "    _, tokens_spacy, _, _ = tokenizar_spacy(palabra)\n",
        "    print(f\"  spaCy: {tokens_spacy}\")\n",
        "\n",
        "    # BERT\n",
        "    tokens_bert = tokenizar_transformers(palabra, tokenizador_bert)\n",
        "    print(f\"  BERT: {tokens_bert}\")\n",
        "\n",
        "    # RoBERTa\n",
        "    tokens_roberta = tokenizar_transformers(palabra, tokenizador_roberta)\n",
        "    print(f\"  RoBERTa: {tokens_roberta}\")\n",
        "\n",
        "    print()"
      ],
      "metadata": {
        "id": "AkColPEY-4UP"
      },
      "execution_count": null,
      "outputs": []
    },
    {
      "cell_type": "markdown",
      "source": [
        "### 4.2.6 Aplicación a los discursos completos"
      ],
      "metadata": {
        "id": "78K452Ta_FAO"
      }
    },
    {
      "cell_type": "code",
      "source": [
        "# Tokenizar los discursos completos para análisis\n",
        "_, tokens_nltk_duque = tokenizar_nltk(discurso_duque)\n",
        "_, tokens_nltk_petro = tokenizar_nltk(discurso_petro)\n",
        "\n",
        "_, tokens_spacy_duque, _, _ = tokenizar_spacy(discurso_duque)\n",
        "_, tokens_spacy_petro, _, _ = tokenizar_spacy(discurso_petro)"
      ],
      "metadata": {
        "id": "vFHXs2Za-6j8"
      },
      "execution_count": null,
      "outputs": []
    },
    {
      "cell_type": "code",
      "source": [
        "# Contar tokens y tipos (tokens únicos)\n",
        "stats_tokens = pd.DataFrame({\n",
        "    'Discurso': ['Duque', 'Duque', 'Petro', 'Petro'],\n",
        "    'Tokenizador': ['NLTK', 'spaCy', 'NLTK', 'spaCy'],\n",
        "    'Total de tokens': [len(tokens_nltk_duque), len(tokens_spacy_duque),\n",
        "                       len(tokens_nltk_petro), len(tokens_spacy_petro)],\n",
        "    'Tokens únicos': [len(set(tokens_nltk_duque)), len(set(tokens_spacy_duque)),\n",
        "                     len(set(tokens_nltk_petro)), len(set(tokens_spacy_petro))]\n",
        "})"
      ],
      "metadata": {
        "colab": {
          "base_uri": "https://localhost:8080/",
          "height": 211
        },
        "id": "KJA4nQhh_CBX",
        "outputId": "5cabc30d-0b69-4aad-9925-7437d5ed26fc"
      },
      "execution_count": null,
      "outputs": [
        {
          "output_type": "error",
          "ename": "NameError",
          "evalue": "name 'tokens_nltk_duque' is not defined",
          "traceback": [
            "\u001b[0;31m---------------------------------------------------------------------------\u001b[0m",
            "\u001b[0;31mNameError\u001b[0m                                 Traceback (most recent call last)",
            "\u001b[0;32m<ipython-input-24-e77621003c7b>\u001b[0m in \u001b[0;36m<cell line: 0>\u001b[0;34m()\u001b[0m\n\u001b[1;32m      3\u001b[0m     \u001b[0;34m'Discurso'\u001b[0m\u001b[0;34m:\u001b[0m \u001b[0;34m[\u001b[0m\u001b[0;34m'Duque'\u001b[0m\u001b[0;34m,\u001b[0m \u001b[0;34m'Duque'\u001b[0m\u001b[0;34m,\u001b[0m \u001b[0;34m'Petro'\u001b[0m\u001b[0;34m,\u001b[0m \u001b[0;34m'Petro'\u001b[0m\u001b[0;34m]\u001b[0m\u001b[0;34m,\u001b[0m\u001b[0;34m\u001b[0m\u001b[0;34m\u001b[0m\u001b[0m\n\u001b[1;32m      4\u001b[0m     \u001b[0;34m'Tokenizador'\u001b[0m\u001b[0;34m:\u001b[0m \u001b[0;34m[\u001b[0m\u001b[0;34m'NLTK'\u001b[0m\u001b[0;34m,\u001b[0m \u001b[0;34m'spaCy'\u001b[0m\u001b[0;34m,\u001b[0m \u001b[0;34m'NLTK'\u001b[0m\u001b[0;34m,\u001b[0m \u001b[0;34m'spaCy'\u001b[0m\u001b[0;34m]\u001b[0m\u001b[0;34m,\u001b[0m\u001b[0;34m\u001b[0m\u001b[0;34m\u001b[0m\u001b[0m\n\u001b[0;32m----> 5\u001b[0;31m     'Total de tokens': [len(tokens_nltk_duque), len(tokens_spacy_duque), \n\u001b[0m\u001b[1;32m      6\u001b[0m                        len(tokens_nltk_petro), len(tokens_spacy_petro)],\n\u001b[1;32m      7\u001b[0m     'Tokens únicos': [len(set(tokens_nltk_duque)), len(set(tokens_spacy_duque)), \n",
            "\u001b[0;31mNameError\u001b[0m: name 'tokens_nltk_duque' is not defined"
          ]
        }
      ]
    },
    {
      "cell_type": "code",
      "source": [
        "# Mostrar estadísticas\n",
        "print(\"Estadísticas de tokenización para discursos completos:\")\n",
        "print(stats_tokens)"
      ],
      "metadata": {
        "id": "_BFGjG3n_PZC"
      },
      "execution_count": null,
      "outputs": []
    },
    {
      "cell_type": "code",
      "source": [
        "# Visualizar\n",
        "plt.figure(figsize=(12, 6))\n",
        "plt.subplot(1, 2, 1)\n",
        "sns.barplot(x='Discurso', y='Total de tokens', hue='Tokenizador', data=stats_tokens)\n",
        "plt.title('Total de tokens por discurso')\n",
        "plt.ylabel('Cantidad')\n",
        "\n",
        "plt.subplot(1, 2, 2)\n",
        "sns.barplot(x='Discurso', y='Tokens únicos', hue='Tokenizador', data=stats_tokens)\n",
        "plt.title('Tokens únicos por discurso')\n",
        "plt.ylabel('Cantidad')\n",
        "\n",
        "plt.tight_layout()\n",
        "plt.show()"
      ],
      "metadata": {
        "id": "g_P_017V_R4L"
      },
      "execution_count": null,
      "outputs": []
    },
    {
      "cell_type": "markdown",
      "source": [
        "## 4.3 Eliminación de Stopwords (Palabras vacías)\n",
        "\n",
        "Las stopwords son palabras comunes (como artículos, preposiciones) que generalmente no aportan significado importante para el análisis.\n",
        "\n",
        "### 4.3.1 Stopwords en español\n"
      ],
      "metadata": {
        "id": "kYL26vqj_UuR"
      }
    },
    {
      "cell_type": "code",
      "source": [
        "# Cargar stopwords en español\n",
        "stop_words_nltk = set(stopwords.words('spanish'))\n",
        "print(f\"NLTK tiene {len(stop_words_nltk)} stopwords en español\")\n",
        "print(f\"Ejemplos de stopwords: {list(stop_words_nltk)[:20]}\")\n",
        "\n",
        "# También podemos usar las stopwords de spaCy\n",
        "stop_words_spacy = spacy.lang.es.stop_words.STOP_WORDS\n",
        "print(f\"\\nspaCy tiene {len(stop_words_spacy)} stopwords en español\")\n",
        "print(f\"Ejemplos de stopwords: {list(stop_words_spacy)[:20]}\")"
      ],
      "metadata": {
        "id": "-fwX0JAM_VRZ"
      },
      "execution_count": null,
      "outputs": []
    },
    {
      "cell_type": "code",
      "source": [
        "# Comparar las listas\n",
        "nltk_no_spacy = stop_words_nltk - stop_words_spacy\n",
        "spacy_no_nltk = stop_words_spacy - stop_words_nltk\n",
        "\n",
        "print(f\"\\nPalabras en NLTK pero no en spaCy: {len(nltk_no_spacy)}\")\n",
        "print(f\"Ejemplos: {list(nltk_no_spacy)[:10]}\")\n",
        "\n",
        "print(f\"\\nPalabras en spaCy pero no en NLTK: {len(spacy_no_nltk)}\")\n",
        "print(f\"Ejemplos: {list(spacy_no_nltk)[:10]}\")"
      ],
      "metadata": {
        "id": "_DzrcR4R_ibo"
      },
      "execution_count": null,
      "outputs": []
    },
    {
      "cell_type": "markdown",
      "source": [
        "### 4.3.2 Filtrado de stopwords"
      ],
      "metadata": {
        "id": "E5DLtQ_2_kn3"
      }
    },
    {
      "cell_type": "code",
      "source": [
        "def eliminar_stopwords(tokens, stop_words):\n",
        "    \"\"\"Elimina stopwords de una lista de tokens\"\"\"\n",
        "    return [token for token in tokens if token.lower() not in stop_words]"
      ],
      "metadata": {
        "id": "aGj4-5kv_lGa"
      },
      "execution_count": null,
      "outputs": []
    },
    {
      "cell_type": "code",
      "source": [
        "# Aplicar a nuestros discursos tokenizados\n",
        "tokens_duque_sin_stop = eliminar_stopwords(tokens_nltk_duque, stop_words_nltk)\n",
        "tokens_petro_sin_stop = eliminar_stopwords(tokens_nltk_petro, stop_words_nltk)"
      ],
      "metadata": {
        "id": "ju3M3sCT_ste"
      },
      "execution_count": null,
      "outputs": []
    },
    {
      "cell_type": "code",
      "source": [
        "# Comparar antes y después\n",
        "print(\"Discurso de Duque:\")\n",
        "print(f\"Tokens originales: {len(tokens_nltk_duque)}\")\n",
        "print(f\"Tokens sin stopwords: {len(tokens_duque_sin_stop)}\")\n",
        "print(f\"Reducción: {len(tokens_nltk_duque) - len(tokens_duque_sin_stop)} tokens ({(1 - len(tokens_duque_sin_stop)/len(tokens_nltk_duque))*100:.1f}%)\")\n",
        "\n",
        "print(\"\\nDiscurso de Petro:\")\n",
        "print(f\"Tokens originales: {len(tokens_nltk_petro)}\")\n",
        "print(f\"Tokens sin stopwords: {len(tokens_petro_sin_stop)}\")\n",
        "print(f\"Reducción: {len(tokens_nltk_petro) - len(tokens_petro_sin_stop)} tokens ({(1 - len(tokens_petro_sin_stop)/len(tokens_nltk_petro))*100:.1f}%)\")"
      ],
      "metadata": {
        "id": "ZUUko3Yp_wrU"
      },
      "execution_count": null,
      "outputs": []
    },
    {
      "cell_type": "code",
      "source": [
        "# Visualización\n",
        "datos_stop = pd.DataFrame({\n",
        "    'Discurso': ['Duque', 'Duque', 'Petro', 'Petro'],\n",
        "    'Tipo': ['Con stopwords', 'Sin stopwords', 'Con stopwords', 'Sin stopwords'],\n",
        "    'Cantidad': [len(tokens_nltk_duque), len(tokens_duque_sin_stop),\n",
        "                len(tokens_nltk_petro), len(tokens_petro_sin_stop)]\n",
        "})\n",
        "\n",
        "plt.figure(figsize=(10, 6))\n",
        "sns.barplot(x='Discurso', y='Cantidad', hue='Tipo', data=datos_stop)\n",
        "plt.title('Impacto de la eliminación de stopwords')\n",
        "plt.ylabel('Número de tokens')\n",
        "plt.tight_layout()\n",
        "plt.show()"
      ],
      "metadata": {
        "id": "lWhIng9__yIY"
      },
      "execution_count": null,
      "outputs": []
    },
    {
      "cell_type": "markdown",
      "source": [
        "### 4.3.3 Análisis de las palabras más frecuentes"
      ],
      "metadata": {
        "id": "QP4-IZb4_2hL"
      }
    },
    {
      "cell_type": "code",
      "source": [
        "def palabras_frecuentes(tokens, n=20):\n",
        "    \"\"\"Encuentra las palabras más frecuentes en una lista de tokens\"\"\"\n",
        "    contador = Counter(token.lower() for token in tokens)\n",
        "    return contador.most_common(n)"
      ],
      "metadata": {
        "id": "ljg6hRcb_4Kl"
      },
      "execution_count": null,
      "outputs": []
    },
    {
      "cell_type": "code",
      "source": [
        "# Con stopwords\n",
        "print(\"Palabras más frecuentes (con stopwords):\")\n",
        "print(\"\\nDiscurso de Duque:\")\n",
        "for palabra, frecuencia in palabras_frecuentes(tokens_nltk_duque):\n",
        "    print(f\"  {palabra}: {frecuencia}\")\n",
        "\n",
        "print(\"\\nDiscurso de Petro:\")\n",
        "for palabra, frecuencia in palabras_frecuentes(tokens_nltk_petro):\n",
        "    print(f\"  {palabra}: {frecuencia}\")"
      ],
      "metadata": {
        "id": "-wJv38eYAcPb"
      },
      "execution_count": null,
      "outputs": []
    },
    {
      "cell_type": "code",
      "source": [
        "# Sin stopwords\n",
        "print(\"\\nPalabras más frecuentes (sin stopwords):\")\n",
        "print(\"\\nDiscurso de Duque:\")\n",
        "for palabra, frecuencia in palabras_frecuentes(tokens_duque_sin_stop):\n",
        "    print(f\"  {palabra}: {frecuencia}\")\n",
        "\n",
        "print(\"\\nDiscurso de Petro:\")\n",
        "for palabra, frecuencia in palabras_frecuentes(tokens_petro_sin_stop):\n",
        "    print(f\"  {palabra}: {frecuencia}\")"
      ],
      "metadata": {
        "id": "gdCKPkccAeRP"
      },
      "execution_count": null,
      "outputs": []
    },
    {
      "cell_type": "code",
      "source": [
        "# Visualización de las palabras más frecuentes sin stopwords\n",
        "def plot_frecuencias(tokens, titulo, n=15):\n",
        "    contador = Counter(token.lower() for token in tokens)\n",
        "    palabras, frecuencias = zip(*contador.most_common(n))\n",
        "\n",
        "    plt.figure(figsize=(12, 6))\n",
        "    sns.barplot(x=list(palabras), y=list(frecuencias))\n",
        "    plt.title(titulo)\n",
        "    plt.xticks(rotation=45, ha='right')\n",
        "    plt.xlabel('Palabras')\n",
        "    plt.ylabel('Frecuencia')\n",
        "    plt.tight_layout()\n",
        "    plt.show()"
      ],
      "metadata": {
        "id": "Lrt-U1k6AT-x"
      },
      "execution_count": null,
      "outputs": []
    },
    {
      "cell_type": "code",
      "source": [
        "plot_frecuencias(tokens_duque_sin_stop, 'Palabras más frecuentes en el discurso de Duque (sin stopwords)')\n",
        "plot_frecuencias(tokens_petro_sin_stop, 'Palabras más frecuentes en el discurso de Petro (sin stopwords)')"
      ],
      "metadata": {
        "id": "-l2fTQaYAWED"
      },
      "execution_count": null,
      "outputs": []
    },
    {
      "cell_type": "markdown",
      "source": [
        "### 4.3.4 Stopwords personalizadas para análisis político"
      ],
      "metadata": {
        "id": "2W_l0C5tAj77"
      }
    },
    {
      "cell_type": "code",
      "source": [
        "# Podemos definir stopwords adicionales específicas para análisis político\n",
        "stopwords_politicas = {\n",
        "    'señores', 'señoras', 'además', 'mediante', 'asimismo', 'través',\n",
        "    'sr', 'sra', 'don', 'doña', 'dr', 'dra', 'etc', 'modo'\n",
        "}"
      ],
      "metadata": {
        "id": "8QAS-tOLAksT"
      },
      "execution_count": null,
      "outputs": []
    },
    {
      "cell_type": "code",
      "source": [
        "# Combinar con las stopwords estándar\n",
        "stop_words_combinadas = stop_words_nltk.union(stopwords_politicas)"
      ],
      "metadata": {
        "id": "QhbYftaOAo3_"
      },
      "execution_count": null,
      "outputs": []
    },
    {
      "cell_type": "code",
      "source": [
        "# Aplicar a nuestros discursos\n",
        "tokens_duque_stop_pol = eliminar_stopwords(tokens_nltk_duque, stop_words_combinadas)\n",
        "tokens_petro_stop_pol = eliminar_stopwords(tokens_nltk_petro, stop_words_combinadas)"
      ],
      "metadata": {
        "id": "krdTOcpmArUf"
      },
      "execution_count": null,
      "outputs": []
    },
    {
      "cell_type": "code",
      "source": [
        "# Ver las diferencias\n",
        "print(\"Impacto de las stopwords políticas adicionales:\")\n",
        "print(f\"Duque - Tokens con stopwords estándar: {len(tokens_duque_sin_stop)}\")\n",
        "print(f\"Duque - Tokens con stopwords personalizadas: {len(tokens_duque_stop_pol)}\")\n",
        "print(f\"Diferencia: {len(tokens_duque_sin_stop) - len(tokens_duque_stop_pol)} tokens\")\n",
        "\n",
        "print(f\"\\nPetro - Tokens con stopwords estándar: {len(tokens_petro_sin_stop)}\")\n",
        "print(f\"Petro - Tokens con stopwords personalizadas: {len(tokens_petro_stop_pol)}\")\n",
        "print(f\"Diferencia: {len(tokens_petro_sin_stop) - len(tokens_petro_stop_pol)} tokens\")"
      ],
      "metadata": {
        "id": "zYd3nyBJAueo"
      },
      "execution_count": null,
      "outputs": []
    },
    {
      "cell_type": "code",
      "source": [
        "# Comparar las palabras más frecuentes con las nuevas stopwords\n",
        "print(\"\\nPalabras más frecuentes (con stopwords personalizadas):\")\n",
        "print(\"\\nDiscurso de Duque:\")\n",
        "for palabra, frecuencia in palabras_frecuentes(tokens_duque_stop_pol):\n",
        "    print(f\"  {palabra}: {frecuencia}\")\n",
        "\n",
        "print(\"\\nDiscurso de Petro:\")\n",
        "for palabra, frecuencia in palabras_frecuentes(tokens_petro_stop_pol):\n",
        "    print(f\"  {palabra}: {frecuencia}\")"
      ],
      "metadata": {
        "id": "RlbPr_8hAwYK"
      },
      "execution_count": null,
      "outputs": []
    },
    {
      "cell_type": "markdown",
      "source": [
        "## 4.4 Stemming vs Lematización\n",
        "\n",
        "El stemming reduce las palabras a su raíz mediante reglas simples de eliminación de sufijos, mientras que la lematización reduce las palabras a su forma base (lema) utilizando análisis morfológico y diccionarios.\n",
        "\n",
        "### 4.4.1 Stemming con NLTK"
      ],
      "metadata": {
        "id": "G3ImNVi7DVGt"
      }
    },
    {
      "cell_type": "code",
      "source": [
        "# Inicializar stemmers\n",
        "stemmer_porter = PorterStemmer()\n",
        "stemmer_snowball = SnowballStemmer('spanish')  # Específico para español\n",
        "\n",
        "def aplicar_stemming(tokens, stemmer):\n",
        "    \"\"\"Aplica stemming a una lista de tokens\"\"\"\n",
        "    return [stemmer.stem(token) for token in tokens]"
      ],
      "metadata": {
        "id": "0elJS7tTDXPS"
      },
      "execution_count": null,
      "outputs": []
    },
    {
      "cell_type": "code",
      "source": [
        "# Ejemplos con palabras en español\n",
        "ejemplos_stemming = [\n",
        "    \"democracia\", \"democrático\", \"democratización\",\n",
        "    \"política\", \"político\", \"políticas\",\n",
        "    \"gobernar\", \"gobierno\", \"gobernante\", \"gobernación\",\n",
        "    \"paz\", \"pacífico\", \"pacificación\",\n",
        "    \"economía\", \"económico\", \"económicamente\"\n",
        "]"
      ],
      "metadata": {
        "id": "KZ8c3x1KDuQi"
      },
      "execution_count": null,
      "outputs": []
    },
    {
      "cell_type": "code",
      "source": [
        "# Comparar resultados de distintos stemmers\n",
        "resultados_stemming = []\n",
        "\n",
        "for palabra in ejemplos_stemming:\n",
        "    stem_porter = stemmer_porter.stem(palabra)\n",
        "    stem_snowball = stemmer_snowball.stem(palabra)\n",
        "\n",
        "    resultados_stemming.append({\n",
        "        'Palabra': palabra,\n",
        "        'Porter Stemmer': stem_porter,\n",
        "        'Snowball Stemmer (Español)': stem_snowball\n",
        "    })"
      ],
      "metadata": {
        "id": "4E83Ucw0D_o2"
      },
      "execution_count": null,
      "outputs": []
    },
    {
      "cell_type": "code",
      "source": [
        "# Mostrar resultados\n",
        "df_stemming = pd.DataFrame(resultados_stemming)\n",
        "print(\"Comparación de stemmers:\")\n",
        "print(df_stemming)"
      ],
      "metadata": {
        "colab": {
          "base_uri": "https://localhost:8080/"
        },
        "id": "UPnu3F93EFBq",
        "outputId": "34f43f3d-8369-435d-e325-6a3cb24a0f54"
      },
      "execution_count": null,
      "outputs": [
        {
          "output_type": "stream",
          "name": "stdout",
          "text": [
            "Comparación de stemmers:\n",
            "            Palabra   Porter Stemmer Snowball Stemmer (Español)\n",
            "0        democracia       democracia                  democraci\n",
            "1       democrático      democrático                   democrat\n",
            "2   democratización  democratización                 democratiz\n",
            "3          política         política                      polit\n",
            "4          político         político                      polit\n",
            "5         políticas         política                      polit\n",
            "6          gobernar         gobernar                     gobern\n",
            "7          gobierno         gobierno                    gobiern\n",
            "8        gobernante        gobernant                     gobern\n",
            "9       gobernación      gobernación                     gobern\n",
            "10              paz              paz                        paz\n",
            "11         pacífico         pacífico                      pacif\n",
            "12     pacificación     pacificación                      pacif\n",
            "13         economía         economía                     econom\n",
            "14        económico        económico                     econom\n",
            "15   económicamente    económicament                     econom\n"
          ]
        }
      ]
    },
    {
      "cell_type": "code",
      "source": [
        "# Aplicar a una muestra de los discursos\n",
        "muestra_duque = tokens_nltk_duque[:100]  # Primeros 100 tokens\n",
        "muestra_petro = tokens_nltk_petro[:100]\n",
        "\n",
        "stems_duque_snowball = aplicar_stemming(muestra_duque, stemmer_snowball)\n",
        "stems_petro_snowball = aplicar_stemming(muestra_petro, stemmer_snowball)\n",
        "\n",
        "print(\"\\nEjemplo de stemming en el discurso de Duque:\")\n",
        "for original, stem in zip(muestra_duque[:15], stems_duque_snowball[:15]):\n",
        "    print(f\"  {original} -> {stem}\")\n",
        "\n",
        "print(\"\\nEjemplo de stemming en el discurso de Petro:\")\n",
        "for original, stem in zip(muestra_petro[:15], stems_petro_snowball[:15]):\n",
        "    print(f\"  {original} -> {stem}\")"
      ],
      "metadata": {
        "id": "EUkBbzbjEYdA"
      },
      "execution_count": null,
      "outputs": []
    },
    {
      "cell_type": "markdown",
      "source": [
        "### 4.4.2 Lematización"
      ],
      "metadata": {
        "id": "0KDulrEoIMQD"
      }
    },
    {
      "cell_type": "code",
      "source": [
        "# Inicializar lematizador de NLTK (para inglés)\n",
        "lemmatizer_nltk = WordNetLemmatizer()"
      ],
      "metadata": {
        "id": "mHPhemUdH9vJ"
      },
      "execution_count": null,
      "outputs": []
    },
    {
      "cell_type": "code",
      "source": [
        "# Para español usaremos spaCy que tiene mejor soporte\n",
        "def lematizar_spacy(tokens, texto_completo=None):\n",
        "    \"\"\"\n",
        "    Lematiza tokens usando spaCy\n",
        "    Si se proporciona el texto_completo, procesa el texto entero (mejor contexto)\n",
        "    Si no, procesa cada token individualmente (menos preciso)\n",
        "    \"\"\"\n",
        "    if texto_completo:\n",
        "        # Procesar el texto completo para mantener el contexto\n",
        "        doc = nlp(texto_completo)\n",
        "        # Extraer lemas manteniendo el orden original\n",
        "        lemas = [token.lemma_ for token in doc]\n",
        "        return lemas\n",
        "    else:\n",
        "        # Procesar cada token individualmente (menos preciso)\n",
        "        return [nlp(token)[0].lemma_ for token in tokens]"
      ],
      "metadata": {
        "id": "QhiG2LWkIXYw"
      },
      "execution_count": null,
      "outputs": []
    },
    {
      "cell_type": "code",
      "source": [
        "# Comparar stemming vs lematización con ejemplos\n",
        "ejemplos_comparacion = [\n",
        "    \"políticas\", \"gobiernos\", \"ciudadanas\",\n",
        "    \"económicas\", \"sociales\", \"latinoamericanos\",\n",
        "    \"mejores\", \"peores\", \"fui\", \"hicieron\"\n",
        "]"
      ],
      "metadata": {
        "id": "1S0Qi8ktIbIx"
      },
      "execution_count": null,
      "outputs": []
    },
    {
      "cell_type": "code",
      "source": [
        "resultados_comparacion = []\n",
        "\n",
        "for palabra in ejemplos_comparacion:\n",
        "    doc = nlp(palabra)  # Procesar con spaCy\n",
        "    lema = doc[0].lemma_\n",
        "    stem = stemmer_snowball.stem(palabra)\n",
        "\n",
        "    resultados_comparacion.append({\n",
        "        'Palabra': palabra,\n",
        "        'Lema (spaCy)': lema,\n",
        "        'Stem (Snowball)': stem\n",
        "    })"
      ],
      "metadata": {
        "id": "TPYVALq5IeUV"
      },
      "execution_count": null,
      "outputs": []
    },
    {
      "cell_type": "code",
      "source": [
        "# Mostrar resultados\n",
        "df_comparacion = pd.DataFrame(resultados_comparacion)\n",
        "print(\"Comparación entre stemming y lematización:\")\n",
        "print(df_comparacion)"
      ],
      "metadata": {
        "colab": {
          "base_uri": "https://localhost:8080/"
        },
        "id": "m1Bj-6fZIgQd",
        "outputId": "f85e1854-ca59-4b1d-ee79-98335afa0793"
      },
      "execution_count": null,
      "outputs": [
        {
          "output_type": "stream",
          "name": "stdout",
          "text": [
            "Comparación entre stemming y lematización:\n",
            "            Palabra     Lema (spaCy) Stem (Snowball)\n",
            "0         políticas         política           polit\n",
            "1         gobiernos         gobierno            gobi\n",
            "2        ciudadanas        ciudadana        ciudadan\n",
            "3        económicas        económico          econom\n",
            "4          sociales           social          social\n",
            "5  latinoamericanos  latinoamericano  latinoamerican\n",
            "6           mejores            mejor           mejor\n",
            "7            peores             peor            peor\n",
            "8               fui               ir             fui\n",
            "9          hicieron            hacer             hic\n"
          ]
        }
      ]
    },
    {
      "cell_type": "code",
      "source": [
        "# Aplicar a muestras de los discursos\n",
        "lemas_duque = lematizar_spacy(tokens_nltk_duque[:100], ' '.join(tokens_nltk_duque[:100]))\n",
        "lemas_petro = lematizar_spacy(tokens_nltk_petro[:100], ' '.join(tokens_nltk_petro[:100]))\n",
        "\n",
        "print(\"\\nEjemplo de lematización en el discurso de Duque:\")\n",
        "for original, lema in zip(muestra_duque[:15], lemas_duque[:15]):\n",
        "    print(f\"  {original} -> {lema}\")\n",
        "\n",
        "print(\"\\nEjemplo de lematización en el discurso de Petro:\")\n",
        "for original, lema in zip(muestra_petro[:15], lemas_petro[:15]):\n",
        "    print(f\"  {original} -> {lema}\")"
      ],
      "metadata": {
        "id": "G_tkuNH_Iq18"
      },
      "execution_count": null,
      "outputs": []
    },
    {
      "cell_type": "markdown",
      "source": [
        "### 4.4.3 Casos especiales y diferencias importantes"
      ],
      "metadata": {
        "id": "vC1_eUeWIv5M"
      }
    },
    {
      "cell_type": "code",
      "source": [
        "# Palabras donde stemming y lematización difieren significativamente\n",
        "casos_especiales = [\n",
        "    \"soy\", \"fui\", \"seré\",  # Formas del verbo ser\n",
        "    \"voy\", \"iré\", \"fue\",   # Formas del verbo ir\n",
        "    \"mejor\", \"óptimo\",     # Comparativos/superlativos\n",
        "    \"dijeron\", \"dijo\",     # Verbos irregulares\n",
        "    \"ciudades\", \"ciudadanos\", # Misma raíz, diferente significado\n",
        "    \"política\", \"políticos\", \"politización\"  # Términos relacionados política\n",
        "]"
      ],
      "metadata": {
        "id": "YziSkY8UItaO"
      },
      "execution_count": null,
      "outputs": []
    },
    {
      "cell_type": "code",
      "source": [
        "resultados_especiales = []\n",
        "\n",
        "for palabra in casos_especiales:\n",
        "    doc = nlp(palabra)\n",
        "    lema = doc[0].lemma_\n",
        "    stem = stemmer_snowball.stem(palabra)\n",
        "\n",
        "    resultados_especiales.append({\n",
        "        'Palabra': palabra,\n",
        "        'Lema (spaCy)': lema,\n",
        "        'Stem (Snowball)': stem,\n",
        "        'Observación': ''  # Completaremos esto manualmente\n",
        "    })"
      ],
      "metadata": {
        "id": "Rz044F1mI7pD"
      },
      "execution_count": null,
      "outputs": []
    },
    {
      "cell_type": "code",
      "source": [
        "# Añadir observaciones manualmente\n",
        "resultados_especiales[0]['Observación'] = 'Verbo ser: lematización mantiene el significado'\n",
        "resultados_especiales[1]['Observación'] = 'Verbo ser: stemming pierde la conjugación'\n",
        "resultados_especiales[2]['Observación'] = 'Verbo ser: stemming no reconoce la relación'\n",
        "resultados_especiales[3]['Observación'] = 'Verbo ir: lematización identifica correctamente'\n",
        "resultados_especiales[4]['Observación'] = 'Verbo ir: stemming no reconoce la relación'\n",
        "resultados_especiales[5]['Observación'] = 'Verbo ir: stemming no reconoce la relación'\n",
        "resultados_especiales[6]['Observación'] = 'Adjetivo: lematización normaliza al positivo'\n",
        "resultados_especiales[7]['Observación'] = 'Adjetivo: lematización normaliza al positivo'\n",
        "resultados_especiales[8]['Observación'] = 'Verbo irregular: lematización identifica la raíz'\n",
        "resultados_especiales[9]['Observación'] = 'Verbo irregular: lematización mantiene consistencia'\n",
        "resultados_especiales[10]['Observación'] = 'Sustantivo: lematización mantiene significado'\n",
        "resultados_especiales[11]['Observación'] = 'Sustantivo relacionado: lematizado correctamente'\n",
        "resultados_especiales[12]['Observación'] = 'Término político: lematización mantiene categoría'\n",
        "resultados_especiales[13]['Observación'] = 'Término político: lematización distingue persona'\n",
        "resultados_especiales[14]['Observación'] = 'Término político: lematización distingue proceso'"
      ],
      "metadata": {
        "id": "z9FkpsX-I9nN"
      },
      "execution_count": null,
      "outputs": []
    },
    {
      "cell_type": "code",
      "source": [
        "# Mostrar resultados\n",
        "df_especiales = pd.DataFrame(resultados_especiales)\n",
        "print(\"Casos especiales donde stemming y lematización difieren:\")\n",
        "print(df_especiales[['Palabra', 'Lema (spaCy)', 'Stem (Snowball)', 'Observación']])"
      ],
      "metadata": {
        "colab": {
          "base_uri": "https://localhost:8080/"
        },
        "id": "aMC9fWxdI_Rn",
        "outputId": "ff799c2f-322c-43a3-e008-1f70222374aa"
      },
      "execution_count": null,
      "outputs": [
        {
          "output_type": "stream",
          "name": "stdout",
          "text": [
            "Casos especiales donde stemming y lematización difieren:\n",
            "         Palabra  Lema (spaCy) Stem (Snowball)  \\\n",
            "0            soy           ser             soy   \n",
            "1            fui            ir             fui   \n",
            "2           seré           ser             ser   \n",
            "3            voy            ir             voy   \n",
            "4            iré            ir             ire   \n",
            "5            fue           ser             fue   \n",
            "6          mejor         mejor           mejor   \n",
            "7         óptimo        óptimo           optim   \n",
            "8        dijeron         decir         dijeron   \n",
            "9           dijo         decir             dij   \n",
            "10      ciudades        ciudad          ciudad   \n",
            "11    ciudadanos     ciudadano        ciudadan   \n",
            "12      política      político           polit   \n",
            "13     políticos      político           polit   \n",
            "14  politización  politización         politiz   \n",
            "\n",
            "                                          Observación  \n",
            "0     Verbo ser: lematización mantiene el significado  \n",
            "1           Verbo ser: stemming pierde la conjugación  \n",
            "2         Verbo ser: stemming no reconoce la relación  \n",
            "3     Verbo ir: lematización identifica correctamente  \n",
            "4          Verbo ir: stemming no reconoce la relación  \n",
            "5          Verbo ir: stemming no reconoce la relación  \n",
            "6        Adjetivo: lematización normaliza al positivo  \n",
            "7        Adjetivo: lematización normaliza al positivo  \n",
            "8    Verbo irregular: lematización identifica la raíz  \n",
            "9   Verbo irregular: lematización mantiene consist...  \n",
            "10      Sustantivo: lematización mantiene significado  \n",
            "11   Sustantivo relacionado: lematizado correctamente  \n",
            "12  Término político: lematización mantiene categoría  \n",
            "13   Término político: lematización distingue persona  \n",
            "14   Término político: lematización distingue proceso  \n"
          ]
        }
      ]
    },
    {
      "cell_type": "markdown",
      "source": [
        "### 4.4.4 Implicaciones para el análisis de discursos políticos\n"
      ],
      "metadata": {
        "id": "1ECgWa1YJMsG"
      }
    },
    {
      "cell_type": "code",
      "source": [
        "# Procesamiento completo de los discursos\n",
        "doc_duque = nlp(discurso_duque)\n",
        "doc_petro = nlp(discurso_petro)\n",
        "\n",
        "# Obtener lemas para cada discurso completo\n",
        "lemas_completos_duque = [token.lemma_ for token in doc_duque]\n",
        "lemas_completos_petro = [token.lemma_ for token in doc_petro]\n",
        "\n",
        "# Obtener stems para cada discurso completo\n",
        "stems_completos_duque = aplicar_stemming(tokens_nltk_duque, stemmer_snowball)\n",
        "stems_completos_petro = aplicar_stemming(tokens_nltk_petro, stemmer_snowball)\n",
        "\n",
        "# Comparar vocabulario (tokens únicos) después de cada proceso\n",
        "vocab_original_duque = set(token.lower() for token in tokens_nltk_duque)\n",
        "vocab_original_petro = set(token.lower() for token in tokens_nltk_petro)\n",
        "\n",
        "vocab_stems_duque = set(stems_completos_duque)\n",
        "vocab_stems_petro = set(stems_completos_petro)\n",
        "\n",
        "vocab_lemas_duque = set(lemas_completos_duque)\n",
        "vocab_lemas_petro = set(lemas_completos_petro)"
      ],
      "metadata": {
        "colab": {
          "base_uri": "https://localhost:8080/",
          "height": 211
        },
        "id": "Al_6a3OAJNZy",
        "outputId": "71a6c728-d8a5-49d3-be93-ab09eacfbea8"
      },
      "execution_count": null,
      "outputs": [
        {
          "output_type": "error",
          "ename": "NameError",
          "evalue": "name 'tokens_nltk_duque' is not defined",
          "traceback": [
            "\u001b[0;31m---------------------------------------------------------------------------\u001b[0m",
            "\u001b[0;31mNameError\u001b[0m                                 Traceback (most recent call last)",
            "\u001b[0;32m<ipython-input-57-006088ddcc37>\u001b[0m in \u001b[0;36m<cell line: 0>\u001b[0;34m()\u001b[0m\n\u001b[1;32m      8\u001b[0m \u001b[0;34m\u001b[0m\u001b[0m\n\u001b[1;32m      9\u001b[0m \u001b[0;31m# Obtener stems para cada discurso completo\u001b[0m\u001b[0;34m\u001b[0m\u001b[0;34m\u001b[0m\u001b[0m\n\u001b[0;32m---> 10\u001b[0;31m \u001b[0mstems_completos_duque\u001b[0m \u001b[0;34m=\u001b[0m \u001b[0maplicar_stemming\u001b[0m\u001b[0;34m(\u001b[0m\u001b[0mtokens_nltk_duque\u001b[0m\u001b[0;34m,\u001b[0m \u001b[0mstemmer_snowball\u001b[0m\u001b[0;34m)\u001b[0m\u001b[0;34m\u001b[0m\u001b[0;34m\u001b[0m\u001b[0m\n\u001b[0m\u001b[1;32m     11\u001b[0m \u001b[0mstems_completos_petro\u001b[0m \u001b[0;34m=\u001b[0m \u001b[0maplicar_stemming\u001b[0m\u001b[0;34m(\u001b[0m\u001b[0mtokens_nltk_petro\u001b[0m\u001b[0;34m,\u001b[0m \u001b[0mstemmer_snowball\u001b[0m\u001b[0;34m)\u001b[0m\u001b[0;34m\u001b[0m\u001b[0;34m\u001b[0m\u001b[0m\n\u001b[1;32m     12\u001b[0m \u001b[0;34m\u001b[0m\u001b[0m\n",
            "\u001b[0;31mNameError\u001b[0m: name 'tokens_nltk_duque' is not defined"
          ]
        }
      ]
    },
    {
      "cell_type": "code",
      "source": [
        "# Estadísticas de reducción de vocabulario\n",
        "stats_reduccion = pd.DataFrame({\n",
        "    'Discurso': ['Duque', 'Duque', 'Duque', 'Petro', 'Petro', 'Petro'],\n",
        "    'Procesamiento': ['Original', 'Stemming', 'Lematización',\n",
        "                     'Original', 'Stemming', 'Lematización'],\n",
        "    'Vocabulario (tokens únicos)': [\n",
        "        len(vocab_original_duque), len(vocab_stems_duque), len(vocab_lemas_duque),\n",
        "        len(vocab_original_petro), len(vocab_stems_petro), len(vocab_lemas_petro)\n",
        "    ]\n",
        "})\n",
        "\n",
        "print(\"Reducción de vocabulario por procesamiento:\")\n",
        "print(stats_reduccion)"
      ],
      "metadata": {
        "id": "2VdSMgetJX7N"
      },
      "execution_count": null,
      "outputs": []
    },
    {
      "cell_type": "code",
      "source": [
        "# Visualización\n",
        "plt.figure(figsize=(12, 6))\n",
        "sns.barplot(x='Discurso', y='Vocabulario (tokens únicos)',\n",
        "           hue='Procesamiento', data=stats_reduccion)\n",
        "plt.title('Impacto del stemming y lematización en el tamaño del vocabulario')\n",
        "plt.ylabel('Número de tokens únicos')\n",
        "plt.tight_layout()\n",
        "plt.show()"
      ],
      "metadata": {
        "id": "y1fbm9moJajz"
      },
      "execution_count": null,
      "outputs": []
    },
    {
      "cell_type": "code",
      "source": [
        "# Análisis de frecuencia después de lematización y eliminación de stopwords\n",
        "lemas_sin_stop_duque = [lema for lema in lemas_completos_duque\n",
        "                        if lema.lower() not in stop_words_nltk]\n",
        "lemas_sin_stop_petro = [lema for lema in lemas_completos_petro\n",
        "                       if lema.lower() not in stop_words_nltk]\n",
        "\n",
        "print(\"\\nPalabras más frecuentes tras lematización (sin stopwords):\")\n",
        "print(\"\\nDiscurso de Duque:\")\n",
        "for palabra, frecuencia in Counter(lemas_sin_stop_duque).most_common(15):\n",
        "    print(f\"  {palabra}: {frecuencia}\")\n",
        "\n",
        "print(\"\\nDiscurso de Petro:\")\n",
        "for palabra, frecuencia in Counter(lemas_sin_stop_petro).most_common(15):\n",
        "    print(f\"  {palabra}: {frecuencia}\")"
      ],
      "metadata": {
        "id": "dpbCBwg8JcD1"
      },
      "execution_count": null,
      "outputs": []
    },
    {
      "cell_type": "markdown",
      "source": [
        "\n",
        "### 4.4.5 Cuándo usar stemming vs lematización"
      ],
      "metadata": {
        "id": "WXgg9Yr9JhTL"
      }
    },
    {
      "cell_type": "markdown",
      "source": [
        "La elección entre stemming y lematización depende de varios factores:\n",
        "\n",
        "**Ventajas del stemming:**\n",
        "- Más rápido computacionalmente\n",
        "- No requiere diccionarios lingüísticos\n",
        "- Puede funcionar con palabras desconocidas\n",
        "- Reduce más agresivamente el vocabulario\n",
        "\n",
        "**Ventajas de la lematización:**\n",
        "- Mayor precisión lingüística\n",
        "- Preserva significados distintos\n",
        "- Mejores resultados para análisis semántico\n",
        "- Especialmente útil para idiomas con morfología compleja\n",
        "\n",
        "**Recomendaciones para análisis de discurso político:**\n",
        "- **Usar lematización cuando:**\n",
        "  - Se necesita alta precisión lingüística\n",
        "  - El análisis enfoca aspectos semánticos\n",
        "  - Se analizan verbos y sus significados\n",
        "  - Se dispone de suficientes recursos computacionales\n",
        "\n",
        "- **Usar stemming cuando:**\n",
        "  - Se necesita eficiencia computacional\n",
        "  - El corpus es muy grande\n",
        "  - La pérdida de precisión no es crítica\n",
        "  - Se busca agrupar palabras de manera más amplia\n",
        "\n",
        "Para análisis de discursos políticos en español, donde los matices y precisión son importantes, la lematización suele ser preferible.\n"
      ],
      "metadata": {
        "id": "zhnQPdUUJl_1"
      }
    },
    {
      "cell_type": "markdown",
      "source": [
        "## 4.5 Visualización con nubes de palabras\n",
        "\n",
        "Las nubes de palabras son una técnica de visualización donde el tamaño de cada palabra es proporcional a su frecuencia en el texto. Son útiles para identificar términos prominentes en un corpus de manera visual e intuitiva.\n"
      ],
      "metadata": {
        "id": "uqvY5EZVJy0Q"
      }
    },
    {
      "cell_type": "markdown",
      "source": [
        "### 4.5.1 Creación de nubes de palabras básicas"
      ],
      "metadata": {
        "id": "OOh-7AzTJ2My"
      }
    },
    {
      "cell_type": "code",
      "source": [
        "def generar_nube_palabras(tokens, titulo, max_words=100, figsize=(12, 8)):\n",
        "    # Convertir tokens a texto para WordCloud\n",
        "    texto = ' '.join(tokens)\n",
        "\n",
        "    # Crear la nube de palabras\n",
        "    wordcloud = WordCloud(\n",
        "        width=800,\n",
        "        height=400,\n",
        "        background_color='white',\n",
        "        max_words=max_words,\n",
        "        contour_width=3,\n",
        "        contour_color='steelblue',\n",
        "        collocations=False,  # No incluir bigramas\n",
        "        random_state=42\n",
        "    ).generate(texto)\n",
        "\n",
        "    # Mostrar la nube de palabras\n",
        "    plt.figure(figsize=figsize)\n",
        "    plt.imshow(wordcloud, interpolation='bilinear')\n",
        "    plt.axis('off')\n",
        "    plt.title(titulo, fontsize=16)\n",
        "    plt.tight_layout()\n",
        "    plt.show()"
      ],
      "metadata": {
        "id": "wf7uj66TJiL7"
      },
      "execution_count": null,
      "outputs": []
    },
    {
      "cell_type": "code",
      "source": [
        "# Filtrar stopwords y aplicar lematización para mejores resultados\n",
        "lemas_filtrados_duque = [lema for lema in lemas_completos_duque\n",
        "                        if lema.lower() not in stop_words_combinadas\n",
        "                        and len(lema) > 1]  # Evitar caracteres sueltos\n",
        "\n",
        "lemas_filtrados_petro = [lema for lema in lemas_completos_petro\n",
        "                        if lema.lower() not in stop_words_combinadas\n",
        "                        and len(lema) > 1]"
      ],
      "metadata": {
        "id": "5MSFp0swKGa_"
      },
      "execution_count": null,
      "outputs": []
    },
    {
      "cell_type": "code",
      "source": [
        "# Generar nubes de palabras\n",
        "generar_nube_palabras(\n",
        "    lemas_filtrados_duque,\n",
        "    'Nube de palabras del discurso de Duque'\n",
        ")\n",
        "\n",
        "generar_nube_palabras(\n",
        "    lemas_filtrados_petro,\n",
        "    'Nube de palabras del discurso de Petro'\n",
        ")"
      ],
      "metadata": {
        "id": "t5-3D4uhKIZ1"
      },
      "execution_count": null,
      "outputs": []
    },
    {
      "cell_type": "markdown",
      "source": [
        "### 4.5.2 Personalización de nubes de palabras\n",
        "\n",
        "Podemos personalizar las nubes de palabras para resaltar aspectos específicos o mejorar la visualización:"
      ],
      "metadata": {
        "id": "qVN6lDrKKPkx"
      }
    },
    {
      "cell_type": "code",
      "source": [
        "# Nube de palabras con diferentes parámetros\n",
        "# Podemos modificar colores o restringir más las palabras\n",
        "def nube_palabras_tematica(tokens, stopwords_adicionales, titulo,\n",
        "                          colormap='viridis', max_words=75):\n",
        "    # Filtrar stopwords adicionales\n",
        "    tokens_filtrados = [token for token in tokens\n",
        "                       if token.lower() not in stopwords_adicionales]\n",
        "\n",
        "    # Convertir tokens a texto\n",
        "    texto = ' '.join(tokens_filtrados)\n",
        "\n",
        "    # Crear nube con colores personalizados\n",
        "    wordcloud = WordCloud(\n",
        "        width=800,\n",
        "        height=400,\n",
        "        background_color='white',\n",
        "        max_words=max_words,\n",
        "        colormap=colormap,\n",
        "        contour_width=2,\n",
        "        contour_color='gray',\n",
        "        collocations=False,\n",
        "        random_state=42\n",
        "    ).generate(texto)\n",
        "\n",
        "    # Mostrar la nube\n",
        "    plt.figure(figsize=(10, 6))\n",
        "    plt.imshow(wordcloud, interpolation='bilinear')\n",
        "    plt.axis('off')\n",
        "    plt.title(titulo, fontsize=16)\n",
        "    plt.tight_layout()\n",
        "    plt.show()\n",
        "\n",
        "# Stopwords temáticas adicionales para destacar términos más específicos\n",
        "stopwords_tematicas = stop_words_combinadas.union({\n",
        "    'país', 'colombia', 'colombiano', 'colombiana', 'colombianos', 'colombianas',\n",
        "    'mundo', 'gran', 'podemos', 'hacer', 'decir', 'tres', 'mil', 'dos',\n",
        "    'año', 'años', 'vez', 'ser', 'tener', 'todo', 'todos', 'todas'\n",
        "})\n",
        "\n",
        "# Nubes temáticas con colores diferentes\n",
        "nube_palabras_tematica(\n",
        "    lemas_filtrados_duque,\n",
        "    stopwords_tematicas,\n",
        "    'Términos clave del discurso de Duque',\n",
        "    colormap='Blues'\n",
        ")\n",
        "\n",
        "nube_palabras_tematica(\n",
        "    lemas_filtrados_petro,\n",
        "    stopwords_tematicas,\n",
        "    'Términos clave del discurso de Petro',\n",
        "    colormap='Reds'\n",
        ")"
      ],
      "metadata": {
        "id": "VTP88F3jKNYN"
      },
      "execution_count": null,
      "outputs": []
    },
    {
      "cell_type": "markdown",
      "source": [
        "### 4.5.3 Nubes de palabras para categorías específicas\n",
        "\n",
        "Podemos generar nubes para categorías temáticas específicas:"
      ],
      "metadata": {
        "id": "Uycg8knpKmV-"
      }
    },
    {
      "cell_type": "code",
      "source": [
        "# Definir categorías temáticas\n",
        "categorias = {\n",
        "    'Economía': ['economía', 'fiscal', 'económico', 'financiero', 'crecimiento',\n",
        "                'desarrollo', 'inversión', 'PIB', 'comercio', 'mercado', 'empleo',\n",
        "                'presupuesto', 'inflación', 'impuesto', 'ingreso', 'pobreza', 'riqueza'],\n",
        "\n",
        "    'Medio ambiente': ['ambiente', 'selva', 'bosque', 'climático', 'naturaleza',\n",
        "                      'amazonas', 'biodiversidad', 'sostenible', 'contaminación',\n",
        "                      'carbono', 'petróleo', 'CO2', 'agua', 'verde', 'oxígeno'],\n",
        "\n",
        "    'Seguridad': ['paz', 'seguridad', 'violencia', 'conflicto', 'guerra', 'narco',\n",
        "                 'terrorismo', 'crimen', 'delito', 'arma', 'militar', 'policía',\n",
        "                 'defensa', 'amenaza', 'ataque', 'combate', 'víctima'],\n",
        "\n",
        "    'Instituciones': ['democracia', 'institución', 'Estado', 'gobierno', 'derecho',\n",
        "                     'ley', 'justicia', 'constitución', 'legal', 'política', 'político',\n",
        "                     'congreso', 'parlamento', 'presidencia', 'ministerio', 'público']\n",
        "}\n",
        "\n",
        "def nube_categorias(tokens, categoria, palabras_categoria, titulo):\n",
        "    # Filtrar solo tokens que pertenecen a la categoría\n",
        "    tokens_categoria = [token for token in tokens\n",
        "                       if any(palabra in token.lower() for palabra in palabras_categoria)]\n",
        "\n",
        "    # Verificar si hay tokens en la categoría\n",
        "    if len(tokens_categoria) < 5:\n",
        "        print(f\"No hay suficientes tokens para la categoría '{categoria}'\")\n",
        "        return\n",
        "\n",
        "    # Generar nube de palabras específica\n",
        "    texto_categoria = ' '.join(tokens_categoria)\n",
        "\n",
        "    # Seleccionar colormap según categoría\n",
        "    colormaps = {\n",
        "        'Economía': 'Greens',\n",
        "        'Medio ambiente': 'YlGn',\n",
        "        'Seguridad': 'Reds',\n",
        "        'Instituciones': 'Blues'\n",
        "    }\n",
        "\n",
        "    # Crear y mostrar la nube\n",
        "    wordcloud = WordCloud(\n",
        "        width=600,\n",
        "        height=300,\n",
        "        background_color='white',\n",
        "        max_words=50,\n",
        "        colormap=colormaps.get(categoria, 'viridis'),\n",
        "        contour_width=1,\n",
        "        contour_color='gray',\n",
        "        collocations=False\n",
        "    ).generate(texto_categoria)\n",
        "\n",
        "    plt.figure(figsize=(8, 5))\n",
        "    plt.imshow(wordcloud, interpolation='bilinear')\n",
        "    plt.axis('off')\n",
        "    plt.title(f\"{titulo} - Categoría: {categoria}\", fontsize=14)\n",
        "    plt.tight_layout()\n",
        "    plt.show()\n",
        "\n",
        "    # Retornar cantidad de tokens\n",
        "    return len(tokens_categoria)\n",
        "\n",
        "# Aplicar a ambos discursos\n",
        "for categoria, palabras in categorias.items():\n",
        "    print(f\"\\nAnálisis de categoría: {categoria}\")\n",
        "\n",
        "    cantidad_duque = nube_categorias(\n",
        "        lemas_completos_duque,\n",
        "        categoria,\n",
        "        palabras,\n",
        "        \"Discurso de Duque\"\n",
        "    )\n",
        "\n",
        "    cantidad_petro = nube_categorias(\n",
        "        lemas_completos_petro,\n",
        "        categoria,\n",
        "        palabras,\n",
        "        \"Discurso de Petro\"\n",
        "    )\n",
        "\n",
        "    if cantidad_duque and cantidad_petro:\n",
        "        print(f\"Duque: {cantidad_duque} tokens | Petro: {cantidad_petro} tokens\")"
      ],
      "metadata": {
        "id": "mEvuzggXKisq"
      },
      "execution_count": null,
      "outputs": []
    },
    {
      "cell_type": "markdown",
      "source": [
        "### 4.5.4 Nubes de palabras comparativas\n",
        "\n",
        "Podemos crear visualizaciones que comparen directamente ambos discursos:"
      ],
      "metadata": {
        "id": "5jaE6WQuKrvb"
      }
    },
    {
      "cell_type": "code",
      "source": [
        "def nube_comparativa(tokens1, nombre1, tokens2, nombre2, titulo):\n",
        "    # Contar frecuencias\n",
        "    contador1 = Counter(tokens1)\n",
        "    contador2 = Counter(tokens2)\n",
        "\n",
        "    # Crear diccionario para WordCloud\n",
        "    # Valor positivo = frecuencia en tokens1, Valor negativo = frecuencia en tokens2\n",
        "    freq_comparativa = {}\n",
        "\n",
        "    # Todos los tokens del primer conjunto (valores positivos)\n",
        "    for token, freq in contador1.items():\n",
        "        if token not in freq_comparativa:\n",
        "            freq_comparativa[token] = freq\n",
        "        else:\n",
        "            freq_comparativa[token] += freq\n",
        "\n",
        "    # Todos los tokens del segundo conjunto (valores negativos)\n",
        "    for token, freq in contador2.items():\n",
        "        if token not in freq_comparativa:\n",
        "            freq_comparativa[token] = -freq\n",
        "        else:\n",
        "            freq_comparativa[token] -= freq\n",
        "\n",
        "    # Separar en dos conjuntos para visualización\n",
        "    palabras_1 = {token: freq for token, freq in freq_comparativa.items() if freq > 0}\n",
        "    palabras_2 = {token: abs(freq) for token, freq in freq_comparativa.items() if freq < 0}\n",
        "\n",
        "    # Crear las nubes\n",
        "    fig, (ax1, ax2) = plt.subplots(1, 2, figsize=(16, 8))\n",
        "\n",
        "    # Nube para el primer conjunto\n",
        "    wordcloud1 = WordCloud(\n",
        "        width=600, height=300,\n",
        "        background_color='white',\n",
        "        colormap='Blues',\n",
        "        max_words=75\n",
        "    ).generate_from_frequencies(palabras_1)\n",
        "\n",
        "    ax1.imshow(wordcloud1, interpolation='bilinear')\n",
        "    ax1.axis('off')\n",
        "    ax1.set_title(f\"Palabras distintivas de {nombre1}\", fontsize=14)\n",
        "\n",
        "    # Nube para el segundo conjunto\n",
        "    wordcloud2 = WordCloud(\n",
        "        width=600, height=300,\n",
        "        background_color='white',\n",
        "        colormap='Reds',\n",
        "        max_words=75\n",
        "    ).generate_from_frequencies(palabras_2)\n",
        "\n",
        "    ax2.imshow(wordcloud2, interpolation='bilinear')\n",
        "    ax2.axis('off')\n",
        "    ax2.set_title(f\"Palabras distintivas de {nombre2}\", fontsize=14)\n",
        "\n",
        "    plt.suptitle(titulo, fontsize=16)\n",
        "    plt.tight_layout(rect=[0, 0, 1, 0.95])  # Ajuste para el título superior\n",
        "    plt.show()\n",
        "\n",
        "# Aplicar a nuestros discursos (usando lemas filtrados)\n",
        "nube_comparativa(\n",
        "    lemas_filtrados_duque, \"Duque\",\n",
        "    lemas_filtrados_petro, \"Petro\",\n",
        "    \"Comparación de palabras distintivas entre Duque y Petro\"\n",
        ")"
      ],
      "metadata": {
        "id": "HltvFRrfKsER"
      },
      "execution_count": null,
      "outputs": []
    },
    {
      "cell_type": "markdown",
      "source": [
        "### 5.5 Interpretación de nubes de palabras para análisis de discurso político\n",
        "\n",
        "Las nubes de palabras nos permiten identificar rápidamente los términos más frecuentes y, por tanto, los posibles temas centrales de cada discurso. Sin embargo, es importante considerar:\n",
        "\n",
        "1. **Limitaciones**: Las nubes de palabras no consideran el contexto ni las relaciones entre términos.\n",
        "2. **Complementariedad**: Deben utilizarse junto con análisis cuantitativos más detallados.\n",
        "3. **Subjetividad**: La selección de stopwords y filtros puede afectar significativamente los resultados.\n",
        "4. **Valor exploratorio**: Son excelentes para una primera aproximación al texto y para comunicar resultados.\n",
        "\n",
        "Para el análisis de discurso político, podemos observar:\n",
        "- Cuáles son los términos centrales de cada orador\n",
        "- Qué campos semánticos predominan\n",
        "- Diferencias significativas entre distintos hablantes\n",
        "- Evolución del discurso a lo largo del tiempo (si se analizan varios discursos)"
      ],
      "metadata": {
        "id": "8ZQXYpXOK5tY"
      }
    }
  ]
}